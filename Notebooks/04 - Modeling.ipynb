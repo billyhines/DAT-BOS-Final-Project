{
 "cells": [
  {
   "cell_type": "markdown",
   "metadata": {},
   "source": [
    "## Modeling\n",
    "\n",
    "In this notebook I combined the season long stats and ELO rankings from notebooks 02 and 03 into the initial NCAA data frame from kaggle and evaluated some models. The results secion at the end is where I evaluated the 2016 games for each team and then put it into the kaggle submission format to help me create my brackets"
   ]
  },
  {
   "cell_type": "code",
   "execution_count": 1,
   "metadata": {
    "collapsed": false
   },
   "outputs": [],
   "source": [
    "import pandas as pd\n",
    "import numpy as np\n",
    "\n",
    "regSeason = pd.read_csv(\"../raw data/RegularSeasonDetailedResults.csv\")\n",
    "tourney = pd.read_csv(\"../raw data/TourneyDetailedResults.csv\")\n",
    "tourneySeeds = pd.read_csv(\"../raw data/TourneySeeds.csv\")\n",
    "tourneySlots = pd.read_csv(\"../raw data/TourneySlots.csv\")\n",
    "\n",
    "eloStats = pd.read_csv(\"../derived data/eloGames.csv\")\n",
    "seasonStats = pd.read_csv(\"../derived data/seasonLongStats.csv\")"
   ]
  },
  {
   "cell_type": "code",
   "execution_count": 2,
   "metadata": {
    "collapsed": true
   },
   "outputs": [],
   "source": [
    "eloStats.drop(eloStats.columns[0], axis=1, inplace=True)\n",
    "seasonStats.drop(seasonStats.columns[0], axis=1, inplace=True)"
   ]
  },
  {
   "cell_type": "code",
   "execution_count": 3,
   "metadata": {
    "collapsed": true
   },
   "outputs": [],
   "source": [
    "#create two data frames: one for winning teams one for losing teams. Also add in the opposing team stats\n",
    "\n",
    "wTeams = regSeason[['Season','Wteam','Lteam','Daynum','Wscore','Numot','Wfgm','Wfga','Wfgm3',\n",
    "                    'Wfga3','Wftm','Wfta','Wor','Wdr','Wast','Wto','Wstl','Wblk','Wpf',\n",
    "                    'Lscore','Lfgm','Lfga','Lfgm3','Lfga3','Lftm','Lfta','Lor','Ldr',\n",
    "                    'Last','Lto','Lstl','Lblk','Lpf']]\n",
    "\n",
    "\n",
    "\n",
    "lTeams = regSeason[['Season','Lteam','Wteam','Daynum','Lscore','Numot','Lfgm','Lfga','Lfgm3',\n",
    "                    'Lfga3','Lftm','Lfta','Lor','Ldr','Last','Lto','Lstl','Lblk','Lpf',\n",
    "                    'Wscore','Wfgm','Wfga','Wfgm3','Wfga3','Wftm','Wfta','Wor','Wdr',\n",
    "                    'Wast','Wto','Wstl','Wblk','Wpf']]"
   ]
  },
  {
   "cell_type": "code",
   "execution_count": 4,
   "metadata": {
    "collapsed": false
   },
   "outputs": [],
   "source": [
    "wTeams['win'] = 1\n",
    "lTeams['win'] = 0"
   ]
  },
  {
   "cell_type": "code",
   "execution_count": 5,
   "metadata": {
    "collapsed": true
   },
   "outputs": [],
   "source": [
    "wTeams.columns = ['season','team','opp','daynum','score','numot','fgm','fga','fgm3',\n",
    "                  'fga3','ftm','fta','or','dr','ast','to','stl','blk','pf',\n",
    "                  'opp_score','opp_fgm','opp_fga','opp_fgm3','opp_fga3','opp_ftm',\n",
    "                  'opp_fta','opp_or','opp_dr','opp_ast','opp_to','opp_stl',\n",
    "                  'opp_blk', 'opp_pf', 'win']\n",
    "\n",
    "lTeams.columns = ['season','team','opp','daynum','score','numot','fgm','fga','fgm3',\n",
    "                  'fga3','ftm','fta','or','dr','ast','to','stl','blk','pf',\n",
    "                  'opp_score','opp_fgm','opp_fga','opp_fgm3','opp_fga3','opp_ftm',\n",
    "                  'opp_fta','opp_or','opp_dr','opp_ast','opp_to','opp_stl',\n",
    "                  'opp_blk', 'opp_pf', 'win']"
   ]
  },
  {
   "cell_type": "code",
   "execution_count": 6,
   "metadata": {
    "collapsed": true
   },
   "outputs": [],
   "source": [
    "regularSeason = wTeams.append(lTeams)"
   ]
  },
  {
   "cell_type": "code",
   "execution_count": 7,
   "metadata": {
    "collapsed": false
   },
   "outputs": [
    {
     "name": "stdout",
     "output_type": "stream",
     "text": [
      "Index([u'season', u'team', u'opp', u'daynum', u'score', u'numot', u'fgm',\n",
      "       u'fga', u'fgm3', u'fga3', u'ftm', u'fta', u'or', u'dr', u'ast', u'to',\n",
      "       u'stl', u'blk', u'pf', u'opp_score', u'opp_fgm', u'opp_fga',\n",
      "       u'opp_fgm3', u'opp_fga3', u'opp_ftm', u'opp_fta', u'opp_or', u'opp_dr',\n",
      "       u'opp_ast', u'opp_to', u'opp_stl', u'opp_blk', u'opp_pf', u'win'],\n",
      "      dtype='object')\n"
     ]
    }
   ],
   "source": [
    "print regularSeason.columns"
   ]
  },
  {
   "cell_type": "code",
   "execution_count": 8,
   "metadata": {
    "collapsed": true
   },
   "outputs": [],
   "source": [
    "regularSeason = regularSeason[['season','daynum','team','opp','win']]"
   ]
  },
  {
   "cell_type": "code",
   "execution_count": 9,
   "metadata": {
    "collapsed": false
   },
   "outputs": [
    {
     "name": "stdout",
     "output_type": "stream",
     "text": [
      "Index([u'season', u'team', u'opp_toAvg', u'opp_scoreAvg', u'opp_orAvg',\n",
      "       u'toAvg', u'opp_stlAvg', u'scoreAvg', u'pfAvg', u'blkAvg', u'astAvg',\n",
      "       u'opp_astAvg', u'opp_drAvg', u'drAvg', u'opp_blkAvg', u'stlAvg',\n",
      "       u'opp_pfAvg', u'orAvg', u'fgp', u'fg3p', u'ftp', u'opp_fgp',\n",
      "       u'opp_fg3p', u'opp_ftp', u'OffRating', u'DefRating'],\n",
      "      dtype='object')\n"
     ]
    }
   ],
   "source": [
    "print(seasonStats.columns)"
   ]
  },
  {
   "cell_type": "code",
   "execution_count": 10,
   "metadata": {
    "collapsed": false
   },
   "outputs": [],
   "source": [
    "df = pd.merge(regularSeason, seasonStats[['season', 'team', 'toAvg','scoreAvg', 'pfAvg', 'blkAvg', 'astAvg', 'drAvg',\n",
    "'stlAvg', 'orAvg', 'fgp', 'fg3p', 'ftp', 'OffRating', 'DefRating']],  how='left',\n",
    "              left_on=['season','team'], right_on = ['season','team'])"
   ]
  },
  {
   "cell_type": "code",
   "execution_count": 11,
   "metadata": {
    "collapsed": true
   },
   "outputs": [],
   "source": [
    "df = pd.merge(df, seasonStats[['season', 'team', 'toAvg','scoreAvg', 'pfAvg', 'blkAvg', 'astAvg', 'drAvg',\n",
    "'stlAvg', 'orAvg', 'fgp', 'fg3p', 'ftp', 'OffRating', 'DefRating']],  how='left',\n",
    "              left_on=['season','opp'], right_on = ['season','team'])"
   ]
  },
  {
   "cell_type": "code",
   "execution_count": 12,
   "metadata": {
    "collapsed": false
   },
   "outputs": [
    {
     "name": "stdout",
     "output_type": "stream",
     "text": [
      "Index([u'season', u'daynum', u'team_x', u'opp', u'win', u'toAvg_x',\n",
      "       u'scoreAvg_x', u'pfAvg_x', u'blkAvg_x', u'astAvg_x', u'drAvg_x',\n",
      "       u'stlAvg_x', u'orAvg_x', u'fgp_x', u'fg3p_x', u'ftp_x', u'OffRating_x',\n",
      "       u'DefRating_x', u'team_y', u'toAvg_y', u'scoreAvg_y', u'pfAvg_y',\n",
      "       u'blkAvg_y', u'astAvg_y', u'drAvg_y', u'stlAvg_y', u'orAvg_y', u'fgp_y',\n",
      "       u'fg3p_y', u'ftp_y', u'OffRating_y', u'DefRating_y'],\n",
      "      dtype='object')\n"
     ]
    }
   ],
   "source": [
    "print df.columns"
   ]
  },
  {
   "cell_type": "code",
   "execution_count": 13,
   "metadata": {
    "collapsed": false
   },
   "outputs": [],
   "source": [
    "df['toDif'] = df['toAvg_x'] - df['toAvg_y']\n",
    "df['scoreDif'] = df['scoreAvg_x'] - df['scoreAvg_y']\n",
    "df['pfDif'] = df['pfAvg_x'] - df['pfAvg_y']\n",
    "df['blkDif'] = df['blkAvg_x'] - df['blkAvg_y']\n",
    "df['astDif'] = df['astAvg_x'] - df['astAvg_y']\n",
    "df['drDif'] = df['drAvg_x'] - df['drAvg_y']\n",
    "df['stlDif'] = df['stlAvg_x'] - df['stlAvg_y']\n",
    "df['orDif'] = df['orAvg_x'] - df['orAvg_y']\n",
    "df['fgpDif'] = df['fgp_x'] - df['fgp_y']\n",
    "df['fg3pDif'] = df['fg3p_x'] - df['fg3p_y']\n",
    "df['ftpDif'] = df['ftp_x'] - df['ftp_y']\n",
    "df['offRatDif'] = df['OffRating_x'] - df['OffRating_y']\n",
    "df['defRatDif'] = df['DefRating_x'] - df['DefRating_y']"
   ]
  },
  {
   "cell_type": "code",
   "execution_count": 14,
   "metadata": {
    "collapsed": false
   },
   "outputs": [],
   "source": [
    "df.drop(['toAvg_x',\n",
    "       'scoreAvg_x', 'pfAvg_x', 'blkAvg_x', 'astAvg_x', 'drAvg_x',\n",
    "       'stlAvg_x', 'orAvg_x', 'fgp_x', 'fg3p_x', 'ftp_x', 'OffRating_x',\n",
    "       'DefRating_x', 'team_y', 'toAvg_y', 'scoreAvg_y', 'pfAvg_y',\n",
    "       'blkAvg_y', 'astAvg_y', 'drAvg_y', 'stlAvg_y', 'orAvg_y', 'fgp_y',\n",
    "       'fg3p_y', 'ftp_y', 'OffRating_y', 'DefRating_y'], axis = 1, inplace = True)"
   ]
  },
  {
   "cell_type": "code",
   "execution_count": 15,
   "metadata": {
    "collapsed": false
   },
   "outputs": [
    {
     "data": {
      "text/html": [
       "<div>\n",
       "<table border=\"1\" class=\"dataframe\">\n",
       "  <thead>\n",
       "    <tr style=\"text-align: right;\">\n",
       "      <th></th>\n",
       "      <th>season</th>\n",
       "      <th>daynum</th>\n",
       "      <th>team_x</th>\n",
       "      <th>opp</th>\n",
       "      <th>win</th>\n",
       "      <th>toDif</th>\n",
       "      <th>scoreDif</th>\n",
       "      <th>pfDif</th>\n",
       "      <th>blkDif</th>\n",
       "      <th>astDif</th>\n",
       "      <th>drDif</th>\n",
       "      <th>stlDif</th>\n",
       "      <th>orDif</th>\n",
       "      <th>fgpDif</th>\n",
       "      <th>fg3pDif</th>\n",
       "      <th>ftpDif</th>\n",
       "      <th>offRatDif</th>\n",
       "      <th>defRatDif</th>\n",
       "    </tr>\n",
       "  </thead>\n",
       "  <tbody>\n",
       "    <tr>\n",
       "      <th>0</th>\n",
       "      <td>2003</td>\n",
       "      <td>10</td>\n",
       "      <td>1104</td>\n",
       "      <td>1328</td>\n",
       "      <td>1</td>\n",
       "      <td>1.485714</td>\n",
       "      <td>-1.880952</td>\n",
       "      <td>-0.564286</td>\n",
       "      <td>0.019048</td>\n",
       "      <td>-2.059524</td>\n",
       "      <td>-1.038095</td>\n",
       "      <td>-0.326190</td>\n",
       "      <td>1.438095</td>\n",
       "      <td>-0.026572</td>\n",
       "      <td>-0.073529</td>\n",
       "      <td>0.002012</td>\n",
       "      <td>-4.920202</td>\n",
       "      <td>5.754161</td>\n",
       "    </tr>\n",
       "    <tr>\n",
       "      <th>1</th>\n",
       "      <td>2003</td>\n",
       "      <td>10</td>\n",
       "      <td>1272</td>\n",
       "      <td>1393</td>\n",
       "      <td>1</td>\n",
       "      <td>0.172414</td>\n",
       "      <td>-5.586207</td>\n",
       "      <td>2.172414</td>\n",
       "      <td>-2.206897</td>\n",
       "      <td>1.655172</td>\n",
       "      <td>-0.931034</td>\n",
       "      <td>-0.931034</td>\n",
       "      <td>-0.241379</td>\n",
       "      <td>-0.032135</td>\n",
       "      <td>0.018362</td>\n",
       "      <td>-0.039816</td>\n",
       "      <td>-5.021639</td>\n",
       "      <td>-3.275287</td>\n",
       "    </tr>\n",
       "    <tr>\n",
       "      <th>2</th>\n",
       "      <td>2003</td>\n",
       "      <td>11</td>\n",
       "      <td>1266</td>\n",
       "      <td>1437</td>\n",
       "      <td>1</td>\n",
       "      <td>-2.461905</td>\n",
       "      <td>6.192857</td>\n",
       "      <td>-2.257143</td>\n",
       "      <td>0.242857</td>\n",
       "      <td>3.254762</td>\n",
       "      <td>0.371429</td>\n",
       "      <td>-1.500000</td>\n",
       "      <td>-1.592857</td>\n",
       "      <td>0.063381</td>\n",
       "      <td>0.030351</td>\n",
       "      <td>0.057471</td>\n",
       "      <td>15.011565</td>\n",
       "      <td>1.507850</td>\n",
       "    </tr>\n",
       "    <tr>\n",
       "      <th>3</th>\n",
       "      <td>2003</td>\n",
       "      <td>11</td>\n",
       "      <td>1296</td>\n",
       "      <td>1457</td>\n",
       "      <td>1</td>\n",
       "      <td>2.357143</td>\n",
       "      <td>0.184332</td>\n",
       "      <td>0.163594</td>\n",
       "      <td>-1.779954</td>\n",
       "      <td>0.070276</td>\n",
       "      <td>-1.319124</td>\n",
       "      <td>0.005760</td>\n",
       "      <td>0.964286</td>\n",
       "      <td>0.026860</td>\n",
       "      <td>0.031417</td>\n",
       "      <td>0.016976</td>\n",
       "      <td>2.201253</td>\n",
       "      <td>7.052977</td>\n",
       "    </tr>\n",
       "    <tr>\n",
       "      <th>4</th>\n",
       "      <td>2003</td>\n",
       "      <td>11</td>\n",
       "      <td>1400</td>\n",
       "      <td>1208</td>\n",
       "      <td>1</td>\n",
       "      <td>1.873016</td>\n",
       "      <td>-0.328042</td>\n",
       "      <td>3.171958</td>\n",
       "      <td>-0.513228</td>\n",
       "      <td>-3.425926</td>\n",
       "      <td>1.550265</td>\n",
       "      <td>-1.236772</td>\n",
       "      <td>3.363757</td>\n",
       "      <td>-0.015622</td>\n",
       "      <td>-0.031316</td>\n",
       "      <td>0.000674</td>\n",
       "      <td>-0.932269</td>\n",
       "      <td>-6.216110</td>\n",
       "    </tr>\n",
       "  </tbody>\n",
       "</table>\n",
       "</div>"
      ],
      "text/plain": [
       "   season  daynum  team_x   opp  win     toDif  scoreDif     pfDif    blkDif  \\\n",
       "0    2003      10    1104  1328    1  1.485714 -1.880952 -0.564286  0.019048   \n",
       "1    2003      10    1272  1393    1  0.172414 -5.586207  2.172414 -2.206897   \n",
       "2    2003      11    1266  1437    1 -2.461905  6.192857 -2.257143  0.242857   \n",
       "3    2003      11    1296  1457    1  2.357143  0.184332  0.163594 -1.779954   \n",
       "4    2003      11    1400  1208    1  1.873016 -0.328042  3.171958 -0.513228   \n",
       "\n",
       "     astDif     drDif    stlDif     orDif    fgpDif   fg3pDif    ftpDif  \\\n",
       "0 -2.059524 -1.038095 -0.326190  1.438095 -0.026572 -0.073529  0.002012   \n",
       "1  1.655172 -0.931034 -0.931034 -0.241379 -0.032135  0.018362 -0.039816   \n",
       "2  3.254762  0.371429 -1.500000 -1.592857  0.063381  0.030351  0.057471   \n",
       "3  0.070276 -1.319124  0.005760  0.964286  0.026860  0.031417  0.016976   \n",
       "4 -3.425926  1.550265 -1.236772  3.363757 -0.015622 -0.031316  0.000674   \n",
       "\n",
       "   offRatDif  defRatDif  \n",
       "0  -4.920202   5.754161  \n",
       "1  -5.021639  -3.275287  \n",
       "2  15.011565   1.507850  \n",
       "3   2.201253   7.052977  \n",
       "4  -0.932269  -6.216110  "
      ]
     },
     "execution_count": 15,
     "metadata": {},
     "output_type": "execute_result"
    }
   ],
   "source": [
    "df.head()"
   ]
  },
  {
   "cell_type": "code",
   "execution_count": 16,
   "metadata": {
    "collapsed": true
   },
   "outputs": [],
   "source": [
    "df.rename(columns={'team_x':'team'}, inplace=True)"
   ]
  },
  {
   "cell_type": "code",
   "execution_count": 17,
   "metadata": {
    "collapsed": false
   },
   "outputs": [
    {
     "data": {
      "text/html": [
       "<div>\n",
       "<table border=\"1\" class=\"dataframe\">\n",
       "  <thead>\n",
       "    <tr style=\"text-align: right;\">\n",
       "      <th></th>\n",
       "      <th>Season</th>\n",
       "      <th>Daynum</th>\n",
       "      <th>Wteam</th>\n",
       "      <th>Lteam</th>\n",
       "      <th>w_elo_before_game</th>\n",
       "      <th>w_elo_after_game</th>\n",
       "      <th>l_elo_before_game</th>\n",
       "      <th>l_elo_after_game</th>\n",
       "      <th>total_days</th>\n",
       "    </tr>\n",
       "  </thead>\n",
       "  <tbody>\n",
       "    <tr>\n",
       "      <th>0</th>\n",
       "      <td>1985</td>\n",
       "      <td>20</td>\n",
       "      <td>1228</td>\n",
       "      <td>1328</td>\n",
       "      <td>1500</td>\n",
       "      <td>1532</td>\n",
       "      <td>1500</td>\n",
       "      <td>1468</td>\n",
       "      <td>1846.25</td>\n",
       "    </tr>\n",
       "    <tr>\n",
       "      <th>1</th>\n",
       "      <td>1985</td>\n",
       "      <td>25</td>\n",
       "      <td>1106</td>\n",
       "      <td>1354</td>\n",
       "      <td>1500</td>\n",
       "      <td>1532</td>\n",
       "      <td>1500</td>\n",
       "      <td>1468</td>\n",
       "      <td>1851.25</td>\n",
       "    </tr>\n",
       "    <tr>\n",
       "      <th>2</th>\n",
       "      <td>1985</td>\n",
       "      <td>25</td>\n",
       "      <td>1112</td>\n",
       "      <td>1223</td>\n",
       "      <td>1500</td>\n",
       "      <td>1532</td>\n",
       "      <td>1500</td>\n",
       "      <td>1468</td>\n",
       "      <td>1851.25</td>\n",
       "    </tr>\n",
       "    <tr>\n",
       "      <th>3</th>\n",
       "      <td>1985</td>\n",
       "      <td>25</td>\n",
       "      <td>1165</td>\n",
       "      <td>1432</td>\n",
       "      <td>1500</td>\n",
       "      <td>1532</td>\n",
       "      <td>1500</td>\n",
       "      <td>1468</td>\n",
       "      <td>1851.25</td>\n",
       "    </tr>\n",
       "    <tr>\n",
       "      <th>4</th>\n",
       "      <td>1985</td>\n",
       "      <td>25</td>\n",
       "      <td>1192</td>\n",
       "      <td>1447</td>\n",
       "      <td>1500</td>\n",
       "      <td>1532</td>\n",
       "      <td>1500</td>\n",
       "      <td>1468</td>\n",
       "      <td>1851.25</td>\n",
       "    </tr>\n",
       "  </tbody>\n",
       "</table>\n",
       "</div>"
      ],
      "text/plain": [
       "   Season  Daynum  Wteam  Lteam  w_elo_before_game  w_elo_after_game  \\\n",
       "0    1985      20   1228   1328               1500              1532   \n",
       "1    1985      25   1106   1354               1500              1532   \n",
       "2    1985      25   1112   1223               1500              1532   \n",
       "3    1985      25   1165   1432               1500              1532   \n",
       "4    1985      25   1192   1447               1500              1532   \n",
       "\n",
       "   l_elo_before_game  l_elo_after_game  total_days  \n",
       "0               1500              1468     1846.25  \n",
       "1               1500              1468     1851.25  \n",
       "2               1500              1468     1851.25  \n",
       "3               1500              1468     1851.25  \n",
       "4               1500              1468     1851.25  "
      ]
     },
     "execution_count": 17,
     "metadata": {},
     "output_type": "execute_result"
    }
   ],
   "source": [
    "eloStats.head()"
   ]
  },
  {
   "cell_type": "code",
   "execution_count": 18,
   "metadata": {
    "collapsed": true
   },
   "outputs": [],
   "source": [
    "eloWin = eloStats[['Season', 'Daynum', 'Wteam', 'w_elo_before_game']]\n",
    "eloLose = eloStats[['Season', 'Daynum', 'Lteam', 'l_elo_before_game']]"
   ]
  },
  {
   "cell_type": "code",
   "execution_count": 19,
   "metadata": {
    "collapsed": true
   },
   "outputs": [],
   "source": [
    "eloWin.columns = ['season','daynum','team','elo']\n",
    "eloLose.columns = ['season','daynum','team','elo']"
   ]
  },
  {
   "cell_type": "code",
   "execution_count": 20,
   "metadata": {
    "collapsed": true
   },
   "outputs": [],
   "source": [
    "eloTotals = eloWin.append(eloLose)"
   ]
  },
  {
   "cell_type": "code",
   "execution_count": 21,
   "metadata": {
    "collapsed": false
   },
   "outputs": [],
   "source": [
    "df = pd.merge(df, eloTotals,  how='left',\n",
    "              left_on=['season','daynum','team'], right_on = ['season','daynum','team'])"
   ]
  },
  {
   "cell_type": "code",
   "execution_count": 22,
   "metadata": {
    "collapsed": false
   },
   "outputs": [],
   "source": [
    "df = pd.merge(df, eloTotals,  how='left',\n",
    "              left_on=['season','daynum','opp'], right_on = ['season','daynum','team'])"
   ]
  },
  {
   "cell_type": "code",
   "execution_count": 23,
   "metadata": {
    "collapsed": false
   },
   "outputs": [
    {
     "name": "stdout",
     "output_type": "stream",
     "text": [
      "Index([u'season', u'daynum', u'team_x', u'opp', u'win', u'toDif', u'scoreDif',\n",
      "       u'pfDif', u'blkDif', u'astDif', u'drDif', u'stlDif', u'orDif',\n",
      "       u'fgpDif', u'fg3pDif', u'ftpDif', u'offRatDif', u'defRatDif', u'elo_x',\n",
      "       u'team_y', u'elo_y'],\n",
      "      dtype='object')\n"
     ]
    }
   ],
   "source": [
    "print df.columns"
   ]
  },
  {
   "cell_type": "code",
   "execution_count": 24,
   "metadata": {
    "collapsed": false
   },
   "outputs": [],
   "source": [
    "df.drop('team_y', axis = 1, inplace = True)"
   ]
  },
  {
   "cell_type": "code",
   "execution_count": 25,
   "metadata": {
    "collapsed": true
   },
   "outputs": [],
   "source": [
    "df['eloDif'] = df['elo_x'] - df['elo_y']"
   ]
  },
  {
   "cell_type": "code",
   "execution_count": 26,
   "metadata": {
    "collapsed": false
   },
   "outputs": [
    {
     "name": "stdout",
     "output_type": "stream",
     "text": [
      "Index([u'season', u'daynum', u'team_x', u'opp', u'win', u'toDif', u'scoreDif',\n",
      "       u'pfDif', u'blkDif', u'astDif', u'drDif', u'stlDif', u'orDif',\n",
      "       u'fgpDif', u'fg3pDif', u'ftpDif', u'offRatDif', u'defRatDif', u'elo_x',\n",
      "       u'elo_y', u'eloDif'],\n",
      "      dtype='object')\n"
     ]
    }
   ],
   "source": [
    "print df.columns"
   ]
  },
  {
   "cell_type": "markdown",
   "metadata": {},
   "source": [
    "## MODELING TIME!"
   ]
  },
  {
   "cell_type": "code",
   "execution_count": 27,
   "metadata": {
    "collapsed": false
   },
   "outputs": [],
   "source": [
    "import sklearn.model_selection as ms\n",
    "\n",
    "X_train, X_test, y_train, y_test = ms.train_test_split(df[['toDif', 'scoreDif', 'pfDif', 'blkDif', 'astDif',\n",
    "                                                           'drDif', 'stlDif', 'orDif', 'fgpDif', 'fg3pDif',\n",
    "                                                           'ftpDif', 'offRatDif', 'defRatDif','eloDif']]\n",
    "                                                       , df['win'], test_size=0.2, random_state=42)"
   ]
  },
  {
   "cell_type": "markdown",
   "metadata": {},
   "source": [
    "## Logistic Regression"
   ]
  },
  {
   "cell_type": "code",
   "execution_count": 28,
   "metadata": {
    "collapsed": false
   },
   "outputs": [
    {
     "data": {
      "text/plain": [
       "GridSearchCV(cv=None, error_score='raise',\n",
       "       estimator=LogisticRegression(C=1.0, class_weight='balanced', dual=False,\n",
       "          fit_intercept=True, intercept_scaling=1, max_iter=100,\n",
       "          multi_class='ovr', n_jobs=1, penalty='l1', random_state=None,\n",
       "          solver='liblinear', tol=0.0001, verbose=0, warm_start=False),\n",
       "       fit_params={}, iid=True, n_jobs=1,\n",
       "       param_grid={'C': [11, 12, 13, 14]}, pre_dispatch='2*n_jobs',\n",
       "       refit=True, return_train_score=True, scoring='neg_log_loss',\n",
       "       verbose=0)"
      ]
     },
     "execution_count": 28,
     "metadata": {},
     "output_type": "execute_result"
    }
   ],
   "source": [
    "#Start with a vanilla regressor\n",
    "import sklearn.linear_model as lm\n",
    "from sklearn.linear_model import LogisticRegression\n",
    "\n",
    "lr = ms.GridSearchCV(estimator=LogisticRegression(class_weight = 'balanced', penalty = 'l1'),\n",
    "                                  param_grid={'C': range(11,15,1)},\n",
    "                                  scoring='neg_log_loss'\n",
    ")\n",
    "\n",
    "lr.fit(X_train, y_train)"
   ]
  },
  {
   "cell_type": "code",
   "execution_count": 29,
   "metadata": {
    "collapsed": false
   },
   "outputs": [
    {
     "name": "stdout",
     "output_type": "stream",
     "text": [
      "-0.523373663665\n",
      "{'C': 12}\n"
     ]
    }
   ],
   "source": [
    "print(lr.best_score_)\n",
    "print(lr.best_params_)"
   ]
  },
  {
   "cell_type": "markdown",
   "metadata": {},
   "source": [
    "Standard Logistic regression can get me to 0.52337282409"
   ]
  },
  {
   "cell_type": "code",
   "execution_count": 30,
   "metadata": {
    "collapsed": false
   },
   "outputs": [
    {
     "data": {
      "text/plain": [
       "0.51719503266693378"
      ]
     },
     "execution_count": 30,
     "metadata": {},
     "output_type": "execute_result"
    }
   ],
   "source": [
    "from sklearn.metrics import log_loss\n",
    "\n",
    "predicted = lr.predict_proba(X_test)[:, 1]\n",
    "log_loss(y_test, predicted)"
   ]
  },
  {
   "cell_type": "markdown",
   "metadata": {},
   "source": [
    "## Lasso Path"
   ]
  },
  {
   "cell_type": "code",
   "execution_count": 31,
   "metadata": {
    "collapsed": false
   },
   "outputs": [
    {
     "data": {
      "application/javascript": [
       "/* Put everything inside the global mpl namespace */\n",
       "window.mpl = {};\n",
       "\n",
       "\n",
       "mpl.get_websocket_type = function() {\n",
       "    if (typeof(WebSocket) !== 'undefined') {\n",
       "        return WebSocket;\n",
       "    } else if (typeof(MozWebSocket) !== 'undefined') {\n",
       "        return MozWebSocket;\n",
       "    } else {\n",
       "        alert('Your browser does not have WebSocket support.' +\n",
       "              'Please try Chrome, Safari or Firefox ≥ 6. ' +\n",
       "              'Firefox 4 and 5 are also supported but you ' +\n",
       "              'have to enable WebSockets in about:config.');\n",
       "    };\n",
       "}\n",
       "\n",
       "mpl.figure = function(figure_id, websocket, ondownload, parent_element) {\n",
       "    this.id = figure_id;\n",
       "\n",
       "    this.ws = websocket;\n",
       "\n",
       "    this.supports_binary = (this.ws.binaryType != undefined);\n",
       "\n",
       "    if (!this.supports_binary) {\n",
       "        var warnings = document.getElementById(\"mpl-warnings\");\n",
       "        if (warnings) {\n",
       "            warnings.style.display = 'block';\n",
       "            warnings.textContent = (\n",
       "                \"This browser does not support binary websocket messages. \" +\n",
       "                    \"Performance may be slow.\");\n",
       "        }\n",
       "    }\n",
       "\n",
       "    this.imageObj = new Image();\n",
       "\n",
       "    this.context = undefined;\n",
       "    this.message = undefined;\n",
       "    this.canvas = undefined;\n",
       "    this.rubberband_canvas = undefined;\n",
       "    this.rubberband_context = undefined;\n",
       "    this.format_dropdown = undefined;\n",
       "\n",
       "    this.image_mode = 'full';\n",
       "\n",
       "    this.root = $('<div/>');\n",
       "    this._root_extra_style(this.root)\n",
       "    this.root.attr('style', 'display: inline-block');\n",
       "\n",
       "    $(parent_element).append(this.root);\n",
       "\n",
       "    this._init_header(this);\n",
       "    this._init_canvas(this);\n",
       "    this._init_toolbar(this);\n",
       "\n",
       "    var fig = this;\n",
       "\n",
       "    this.waiting = false;\n",
       "\n",
       "    this.ws.onopen =  function () {\n",
       "            fig.send_message(\"supports_binary\", {value: fig.supports_binary});\n",
       "            fig.send_message(\"send_image_mode\", {});\n",
       "            if (mpl.ratio != 1) {\n",
       "                fig.send_message(\"set_dpi_ratio\", {'dpi_ratio': mpl.ratio});\n",
       "            }\n",
       "            fig.send_message(\"refresh\", {});\n",
       "        }\n",
       "\n",
       "    this.imageObj.onload = function() {\n",
       "            if (fig.image_mode == 'full') {\n",
       "                // Full images could contain transparency (where diff images\n",
       "                // almost always do), so we need to clear the canvas so that\n",
       "                // there is no ghosting.\n",
       "                fig.context.clearRect(0, 0, fig.canvas.width, fig.canvas.height);\n",
       "            }\n",
       "            fig.context.drawImage(fig.imageObj, 0, 0);\n",
       "        };\n",
       "\n",
       "    this.imageObj.onunload = function() {\n",
       "        this.ws.close();\n",
       "    }\n",
       "\n",
       "    this.ws.onmessage = this._make_on_message_function(this);\n",
       "\n",
       "    this.ondownload = ondownload;\n",
       "}\n",
       "\n",
       "mpl.figure.prototype._init_header = function() {\n",
       "    var titlebar = $(\n",
       "        '<div class=\"ui-dialog-titlebar ui-widget-header ui-corner-all ' +\n",
       "        'ui-helper-clearfix\"/>');\n",
       "    var titletext = $(\n",
       "        '<div class=\"ui-dialog-title\" style=\"width: 100%; ' +\n",
       "        'text-align: center; padding: 3px;\"/>');\n",
       "    titlebar.append(titletext)\n",
       "    this.root.append(titlebar);\n",
       "    this.header = titletext[0];\n",
       "}\n",
       "\n",
       "\n",
       "\n",
       "mpl.figure.prototype._canvas_extra_style = function(canvas_div) {\n",
       "\n",
       "}\n",
       "\n",
       "\n",
       "mpl.figure.prototype._root_extra_style = function(canvas_div) {\n",
       "\n",
       "}\n",
       "\n",
       "mpl.figure.prototype._init_canvas = function() {\n",
       "    var fig = this;\n",
       "\n",
       "    var canvas_div = $('<div/>');\n",
       "\n",
       "    canvas_div.attr('style', 'position: relative; clear: both; outline: 0');\n",
       "\n",
       "    function canvas_keyboard_event(event) {\n",
       "        return fig.key_event(event, event['data']);\n",
       "    }\n",
       "\n",
       "    canvas_div.keydown('key_press', canvas_keyboard_event);\n",
       "    canvas_div.keyup('key_release', canvas_keyboard_event);\n",
       "    this.canvas_div = canvas_div\n",
       "    this._canvas_extra_style(canvas_div)\n",
       "    this.root.append(canvas_div);\n",
       "\n",
       "    var canvas = $('<canvas/>');\n",
       "    canvas.addClass('mpl-canvas');\n",
       "    canvas.attr('style', \"left: 0; top: 0; z-index: 0; outline: 0\")\n",
       "\n",
       "    this.canvas = canvas[0];\n",
       "    this.context = canvas[0].getContext(\"2d\");\n",
       "\n",
       "    var backingStore = this.context.backingStorePixelRatio ||\n",
       "\tthis.context.webkitBackingStorePixelRatio ||\n",
       "\tthis.context.mozBackingStorePixelRatio ||\n",
       "\tthis.context.msBackingStorePixelRatio ||\n",
       "\tthis.context.oBackingStorePixelRatio ||\n",
       "\tthis.context.backingStorePixelRatio || 1;\n",
       "\n",
       "    mpl.ratio = (window.devicePixelRatio || 1) / backingStore;\n",
       "\n",
       "    var rubberband = $('<canvas/>');\n",
       "    rubberband.attr('style', \"position: absolute; left: 0; top: 0; z-index: 1;\")\n",
       "\n",
       "    var pass_mouse_events = true;\n",
       "\n",
       "    canvas_div.resizable({\n",
       "        start: function(event, ui) {\n",
       "            pass_mouse_events = false;\n",
       "        },\n",
       "        resize: function(event, ui) {\n",
       "            fig.request_resize(ui.size.width, ui.size.height);\n",
       "        },\n",
       "        stop: function(event, ui) {\n",
       "            pass_mouse_events = true;\n",
       "            fig.request_resize(ui.size.width, ui.size.height);\n",
       "        },\n",
       "    });\n",
       "\n",
       "    function mouse_event_fn(event) {\n",
       "        if (pass_mouse_events)\n",
       "            return fig.mouse_event(event, event['data']);\n",
       "    }\n",
       "\n",
       "    rubberband.mousedown('button_press', mouse_event_fn);\n",
       "    rubberband.mouseup('button_release', mouse_event_fn);\n",
       "    // Throttle sequential mouse events to 1 every 20ms.\n",
       "    rubberband.mousemove('motion_notify', mouse_event_fn);\n",
       "\n",
       "    rubberband.mouseenter('figure_enter', mouse_event_fn);\n",
       "    rubberband.mouseleave('figure_leave', mouse_event_fn);\n",
       "\n",
       "    canvas_div.on(\"wheel\", function (event) {\n",
       "        event = event.originalEvent;\n",
       "        event['data'] = 'scroll'\n",
       "        if (event.deltaY < 0) {\n",
       "            event.step = 1;\n",
       "        } else {\n",
       "            event.step = -1;\n",
       "        }\n",
       "        mouse_event_fn(event);\n",
       "    });\n",
       "\n",
       "    canvas_div.append(canvas);\n",
       "    canvas_div.append(rubberband);\n",
       "\n",
       "    this.rubberband = rubberband;\n",
       "    this.rubberband_canvas = rubberband[0];\n",
       "    this.rubberband_context = rubberband[0].getContext(\"2d\");\n",
       "    this.rubberband_context.strokeStyle = \"#000000\";\n",
       "\n",
       "    this._resize_canvas = function(width, height) {\n",
       "        // Keep the size of the canvas, canvas container, and rubber band\n",
       "        // canvas in synch.\n",
       "        canvas_div.css('width', width)\n",
       "        canvas_div.css('height', height)\n",
       "\n",
       "        canvas.attr('width', width * mpl.ratio);\n",
       "        canvas.attr('height', height * mpl.ratio);\n",
       "        canvas.attr('style', 'width: ' + width + 'px; height: ' + height + 'px;');\n",
       "\n",
       "        rubberband.attr('width', width);\n",
       "        rubberband.attr('height', height);\n",
       "    }\n",
       "\n",
       "    // Set the figure to an initial 600x600px, this will subsequently be updated\n",
       "    // upon first draw.\n",
       "    this._resize_canvas(600, 600);\n",
       "\n",
       "    // Disable right mouse context menu.\n",
       "    $(this.rubberband_canvas).bind(\"contextmenu\",function(e){\n",
       "        return false;\n",
       "    });\n",
       "\n",
       "    function set_focus () {\n",
       "        canvas.focus();\n",
       "        canvas_div.focus();\n",
       "    }\n",
       "\n",
       "    window.setTimeout(set_focus, 100);\n",
       "}\n",
       "\n",
       "mpl.figure.prototype._init_toolbar = function() {\n",
       "    var fig = this;\n",
       "\n",
       "    var nav_element = $('<div/>')\n",
       "    nav_element.attr('style', 'width: 100%');\n",
       "    this.root.append(nav_element);\n",
       "\n",
       "    // Define a callback function for later on.\n",
       "    function toolbar_event(event) {\n",
       "        return fig.toolbar_button_onclick(event['data']);\n",
       "    }\n",
       "    function toolbar_mouse_event(event) {\n",
       "        return fig.toolbar_button_onmouseover(event['data']);\n",
       "    }\n",
       "\n",
       "    for(var toolbar_ind in mpl.toolbar_items) {\n",
       "        var name = mpl.toolbar_items[toolbar_ind][0];\n",
       "        var tooltip = mpl.toolbar_items[toolbar_ind][1];\n",
       "        var image = mpl.toolbar_items[toolbar_ind][2];\n",
       "        var method_name = mpl.toolbar_items[toolbar_ind][3];\n",
       "\n",
       "        if (!name) {\n",
       "            // put a spacer in here.\n",
       "            continue;\n",
       "        }\n",
       "        var button = $('<button/>');\n",
       "        button.addClass('ui-button ui-widget ui-state-default ui-corner-all ' +\n",
       "                        'ui-button-icon-only');\n",
       "        button.attr('role', 'button');\n",
       "        button.attr('aria-disabled', 'false');\n",
       "        button.click(method_name, toolbar_event);\n",
       "        button.mouseover(tooltip, toolbar_mouse_event);\n",
       "\n",
       "        var icon_img = $('<span/>');\n",
       "        icon_img.addClass('ui-button-icon-primary ui-icon');\n",
       "        icon_img.addClass(image);\n",
       "        icon_img.addClass('ui-corner-all');\n",
       "\n",
       "        var tooltip_span = $('<span/>');\n",
       "        tooltip_span.addClass('ui-button-text');\n",
       "        tooltip_span.html(tooltip);\n",
       "\n",
       "        button.append(icon_img);\n",
       "        button.append(tooltip_span);\n",
       "\n",
       "        nav_element.append(button);\n",
       "    }\n",
       "\n",
       "    var fmt_picker_span = $('<span/>');\n",
       "\n",
       "    var fmt_picker = $('<select/>');\n",
       "    fmt_picker.addClass('mpl-toolbar-option ui-widget ui-widget-content');\n",
       "    fmt_picker_span.append(fmt_picker);\n",
       "    nav_element.append(fmt_picker_span);\n",
       "    this.format_dropdown = fmt_picker[0];\n",
       "\n",
       "    for (var ind in mpl.extensions) {\n",
       "        var fmt = mpl.extensions[ind];\n",
       "        var option = $(\n",
       "            '<option/>', {selected: fmt === mpl.default_extension}).html(fmt);\n",
       "        fmt_picker.append(option)\n",
       "    }\n",
       "\n",
       "    // Add hover states to the ui-buttons\n",
       "    $( \".ui-button\" ).hover(\n",
       "        function() { $(this).addClass(\"ui-state-hover\");},\n",
       "        function() { $(this).removeClass(\"ui-state-hover\");}\n",
       "    );\n",
       "\n",
       "    var status_bar = $('<span class=\"mpl-message\"/>');\n",
       "    nav_element.append(status_bar);\n",
       "    this.message = status_bar[0];\n",
       "}\n",
       "\n",
       "mpl.figure.prototype.request_resize = function(x_pixels, y_pixels) {\n",
       "    // Request matplotlib to resize the figure. Matplotlib will then trigger a resize in the client,\n",
       "    // which will in turn request a refresh of the image.\n",
       "    this.send_message('resize', {'width': x_pixels, 'height': y_pixels});\n",
       "}\n",
       "\n",
       "mpl.figure.prototype.send_message = function(type, properties) {\n",
       "    properties['type'] = type;\n",
       "    properties['figure_id'] = this.id;\n",
       "    this.ws.send(JSON.stringify(properties));\n",
       "}\n",
       "\n",
       "mpl.figure.prototype.send_draw_message = function() {\n",
       "    if (!this.waiting) {\n",
       "        this.waiting = true;\n",
       "        this.ws.send(JSON.stringify({type: \"draw\", figure_id: this.id}));\n",
       "    }\n",
       "}\n",
       "\n",
       "\n",
       "mpl.figure.prototype.handle_save = function(fig, msg) {\n",
       "    var format_dropdown = fig.format_dropdown;\n",
       "    var format = format_dropdown.options[format_dropdown.selectedIndex].value;\n",
       "    fig.ondownload(fig, format);\n",
       "}\n",
       "\n",
       "\n",
       "mpl.figure.prototype.handle_resize = function(fig, msg) {\n",
       "    var size = msg['size'];\n",
       "    if (size[0] != fig.canvas.width || size[1] != fig.canvas.height) {\n",
       "        fig._resize_canvas(size[0], size[1]);\n",
       "        fig.send_message(\"refresh\", {});\n",
       "    };\n",
       "}\n",
       "\n",
       "mpl.figure.prototype.handle_rubberband = function(fig, msg) {\n",
       "    var x0 = msg['x0'] / mpl.ratio;\n",
       "    var y0 = (fig.canvas.height - msg['y0']) / mpl.ratio;\n",
       "    var x1 = msg['x1'] / mpl.ratio;\n",
       "    var y1 = (fig.canvas.height - msg['y1']) / mpl.ratio;\n",
       "    x0 = Math.floor(x0) + 0.5;\n",
       "    y0 = Math.floor(y0) + 0.5;\n",
       "    x1 = Math.floor(x1) + 0.5;\n",
       "    y1 = Math.floor(y1) + 0.5;\n",
       "    var min_x = Math.min(x0, x1);\n",
       "    var min_y = Math.min(y0, y1);\n",
       "    var width = Math.abs(x1 - x0);\n",
       "    var height = Math.abs(y1 - y0);\n",
       "\n",
       "    fig.rubberband_context.clearRect(\n",
       "        0, 0, fig.canvas.width, fig.canvas.height);\n",
       "\n",
       "    fig.rubberband_context.strokeRect(min_x, min_y, width, height);\n",
       "}\n",
       "\n",
       "mpl.figure.prototype.handle_figure_label = function(fig, msg) {\n",
       "    // Updates the figure title.\n",
       "    fig.header.textContent = msg['label'];\n",
       "}\n",
       "\n",
       "mpl.figure.prototype.handle_cursor = function(fig, msg) {\n",
       "    var cursor = msg['cursor'];\n",
       "    switch(cursor)\n",
       "    {\n",
       "    case 0:\n",
       "        cursor = 'pointer';\n",
       "        break;\n",
       "    case 1:\n",
       "        cursor = 'default';\n",
       "        break;\n",
       "    case 2:\n",
       "        cursor = 'crosshair';\n",
       "        break;\n",
       "    case 3:\n",
       "        cursor = 'move';\n",
       "        break;\n",
       "    }\n",
       "    fig.rubberband_canvas.style.cursor = cursor;\n",
       "}\n",
       "\n",
       "mpl.figure.prototype.handle_message = function(fig, msg) {\n",
       "    fig.message.textContent = msg['message'];\n",
       "}\n",
       "\n",
       "mpl.figure.prototype.handle_draw = function(fig, msg) {\n",
       "    // Request the server to send over a new figure.\n",
       "    fig.send_draw_message();\n",
       "}\n",
       "\n",
       "mpl.figure.prototype.handle_image_mode = function(fig, msg) {\n",
       "    fig.image_mode = msg['mode'];\n",
       "}\n",
       "\n",
       "mpl.figure.prototype.updated_canvas_event = function() {\n",
       "    // Called whenever the canvas gets updated.\n",
       "    this.send_message(\"ack\", {});\n",
       "}\n",
       "\n",
       "// A function to construct a web socket function for onmessage handling.\n",
       "// Called in the figure constructor.\n",
       "mpl.figure.prototype._make_on_message_function = function(fig) {\n",
       "    return function socket_on_message(evt) {\n",
       "        if (evt.data instanceof Blob) {\n",
       "            /* FIXME: We get \"Resource interpreted as Image but\n",
       "             * transferred with MIME type text/plain:\" errors on\n",
       "             * Chrome.  But how to set the MIME type?  It doesn't seem\n",
       "             * to be part of the websocket stream */\n",
       "            evt.data.type = \"image/png\";\n",
       "\n",
       "            /* Free the memory for the previous frames */\n",
       "            if (fig.imageObj.src) {\n",
       "                (window.URL || window.webkitURL).revokeObjectURL(\n",
       "                    fig.imageObj.src);\n",
       "            }\n",
       "\n",
       "            fig.imageObj.src = (window.URL || window.webkitURL).createObjectURL(\n",
       "                evt.data);\n",
       "            fig.updated_canvas_event();\n",
       "            fig.waiting = false;\n",
       "            return;\n",
       "        }\n",
       "        else if (typeof evt.data === 'string' && evt.data.slice(0, 21) == \"data:image/png;base64\") {\n",
       "            fig.imageObj.src = evt.data;\n",
       "            fig.updated_canvas_event();\n",
       "            fig.waiting = false;\n",
       "            return;\n",
       "        }\n",
       "\n",
       "        var msg = JSON.parse(evt.data);\n",
       "        var msg_type = msg['type'];\n",
       "\n",
       "        // Call the  \"handle_{type}\" callback, which takes\n",
       "        // the figure and JSON message as its only arguments.\n",
       "        try {\n",
       "            var callback = fig[\"handle_\" + msg_type];\n",
       "        } catch (e) {\n",
       "            console.log(\"No handler for the '\" + msg_type + \"' message type: \", msg);\n",
       "            return;\n",
       "        }\n",
       "\n",
       "        if (callback) {\n",
       "            try {\n",
       "                // console.log(\"Handling '\" + msg_type + \"' message: \", msg);\n",
       "                callback(fig, msg);\n",
       "            } catch (e) {\n",
       "                console.log(\"Exception inside the 'handler_\" + msg_type + \"' callback:\", e, e.stack, msg);\n",
       "            }\n",
       "        }\n",
       "    };\n",
       "}\n",
       "\n",
       "// from http://stackoverflow.com/questions/1114465/getting-mouse-location-in-canvas\n",
       "mpl.findpos = function(e) {\n",
       "    //this section is from http://www.quirksmode.org/js/events_properties.html\n",
       "    var targ;\n",
       "    if (!e)\n",
       "        e = window.event;\n",
       "    if (e.target)\n",
       "        targ = e.target;\n",
       "    else if (e.srcElement)\n",
       "        targ = e.srcElement;\n",
       "    if (targ.nodeType == 3) // defeat Safari bug\n",
       "        targ = targ.parentNode;\n",
       "\n",
       "    // jQuery normalizes the pageX and pageY\n",
       "    // pageX,Y are the mouse positions relative to the document\n",
       "    // offset() returns the position of the element relative to the document\n",
       "    var x = e.pageX - $(targ).offset().left;\n",
       "    var y = e.pageY - $(targ).offset().top;\n",
       "\n",
       "    return {\"x\": x, \"y\": y};\n",
       "};\n",
       "\n",
       "/*\n",
       " * return a copy of an object with only non-object keys\n",
       " * we need this to avoid circular references\n",
       " * http://stackoverflow.com/a/24161582/3208463\n",
       " */\n",
       "function simpleKeys (original) {\n",
       "  return Object.keys(original).reduce(function (obj, key) {\n",
       "    if (typeof original[key] !== 'object')\n",
       "        obj[key] = original[key]\n",
       "    return obj;\n",
       "  }, {});\n",
       "}\n",
       "\n",
       "mpl.figure.prototype.mouse_event = function(event, name) {\n",
       "    var canvas_pos = mpl.findpos(event)\n",
       "\n",
       "    if (name === 'button_press')\n",
       "    {\n",
       "        this.canvas.focus();\n",
       "        this.canvas_div.focus();\n",
       "    }\n",
       "\n",
       "    var x = canvas_pos.x * mpl.ratio;\n",
       "    var y = canvas_pos.y * mpl.ratio;\n",
       "\n",
       "    this.send_message(name, {x: x, y: y, button: event.button,\n",
       "                             step: event.step,\n",
       "                             guiEvent: simpleKeys(event)});\n",
       "\n",
       "    /* This prevents the web browser from automatically changing to\n",
       "     * the text insertion cursor when the button is pressed.  We want\n",
       "     * to control all of the cursor setting manually through the\n",
       "     * 'cursor' event from matplotlib */\n",
       "    event.preventDefault();\n",
       "    return false;\n",
       "}\n",
       "\n",
       "mpl.figure.prototype._key_event_extra = function(event, name) {\n",
       "    // Handle any extra behaviour associated with a key event\n",
       "}\n",
       "\n",
       "mpl.figure.prototype.key_event = function(event, name) {\n",
       "\n",
       "    // Prevent repeat events\n",
       "    if (name == 'key_press')\n",
       "    {\n",
       "        if (event.which === this._key)\n",
       "            return;\n",
       "        else\n",
       "            this._key = event.which;\n",
       "    }\n",
       "    if (name == 'key_release')\n",
       "        this._key = null;\n",
       "\n",
       "    var value = '';\n",
       "    if (event.ctrlKey && event.which != 17)\n",
       "        value += \"ctrl+\";\n",
       "    if (event.altKey && event.which != 18)\n",
       "        value += \"alt+\";\n",
       "    if (event.shiftKey && event.which != 16)\n",
       "        value += \"shift+\";\n",
       "\n",
       "    value += 'k';\n",
       "    value += event.which.toString();\n",
       "\n",
       "    this._key_event_extra(event, name);\n",
       "\n",
       "    this.send_message(name, {key: value,\n",
       "                             guiEvent: simpleKeys(event)});\n",
       "    return false;\n",
       "}\n",
       "\n",
       "mpl.figure.prototype.toolbar_button_onclick = function(name) {\n",
       "    if (name == 'download') {\n",
       "        this.handle_save(this, null);\n",
       "    } else {\n",
       "        this.send_message(\"toolbar_button\", {name: name});\n",
       "    }\n",
       "};\n",
       "\n",
       "mpl.figure.prototype.toolbar_button_onmouseover = function(tooltip) {\n",
       "    this.message.textContent = tooltip;\n",
       "};\n",
       "mpl.toolbar_items = [[\"Home\", \"Reset original view\", \"fa fa-home icon-home\", \"home\"], [\"Back\", \"Back to  previous view\", \"fa fa-arrow-left icon-arrow-left\", \"back\"], [\"Forward\", \"Forward to next view\", \"fa fa-arrow-right icon-arrow-right\", \"forward\"], [\"\", \"\", \"\", \"\"], [\"Pan\", \"Pan axes with left mouse, zoom with right\", \"fa fa-arrows icon-move\", \"pan\"], [\"Zoom\", \"Zoom to rectangle\", \"fa fa-square-o icon-check-empty\", \"zoom\"], [\"\", \"\", \"\", \"\"], [\"Download\", \"Download plot\", \"fa fa-floppy-o icon-save\", \"download\"]];\n",
       "\n",
       "mpl.extensions = [\"eps\", \"jpeg\", \"pdf\", \"png\", \"ps\", \"raw\", \"svg\", \"tif\"];\n",
       "\n",
       "mpl.default_extension = \"png\";var comm_websocket_adapter = function(comm) {\n",
       "    // Create a \"websocket\"-like object which calls the given IPython comm\n",
       "    // object with the appropriate methods. Currently this is a non binary\n",
       "    // socket, so there is still some room for performance tuning.\n",
       "    var ws = {};\n",
       "\n",
       "    ws.close = function() {\n",
       "        comm.close()\n",
       "    };\n",
       "    ws.send = function(m) {\n",
       "        //console.log('sending', m);\n",
       "        comm.send(m);\n",
       "    };\n",
       "    // Register the callback with on_msg.\n",
       "    comm.on_msg(function(msg) {\n",
       "        //console.log('receiving', msg['content']['data'], msg);\n",
       "        // Pass the mpl event to the overriden (by mpl) onmessage function.\n",
       "        ws.onmessage(msg['content']['data'])\n",
       "    });\n",
       "    return ws;\n",
       "}\n",
       "\n",
       "mpl.mpl_figure_comm = function(comm, msg) {\n",
       "    // This is the function which gets called when the mpl process\n",
       "    // starts-up an IPython Comm through the \"matplotlib\" channel.\n",
       "\n",
       "    var id = msg.content.data.id;\n",
       "    // Get hold of the div created by the display call when the Comm\n",
       "    // socket was opened in Python.\n",
       "    var element = $(\"#\" + id);\n",
       "    var ws_proxy = comm_websocket_adapter(comm)\n",
       "\n",
       "    function ondownload(figure, format) {\n",
       "        window.open(figure.imageObj.src);\n",
       "    }\n",
       "\n",
       "    var fig = new mpl.figure(id, ws_proxy,\n",
       "                           ondownload,\n",
       "                           element.get(0));\n",
       "\n",
       "    // Call onopen now - mpl needs it, as it is assuming we've passed it a real\n",
       "    // web socket which is closed, not our websocket->open comm proxy.\n",
       "    ws_proxy.onopen();\n",
       "\n",
       "    fig.parent_element = element.get(0);\n",
       "    fig.cell_info = mpl.find_output_cell(\"<div id='\" + id + \"'></div>\");\n",
       "    if (!fig.cell_info) {\n",
       "        console.error(\"Failed to find cell for figure\", id, fig);\n",
       "        return;\n",
       "    }\n",
       "\n",
       "    var output_index = fig.cell_info[2]\n",
       "    var cell = fig.cell_info[0];\n",
       "\n",
       "};\n",
       "\n",
       "mpl.figure.prototype.handle_close = function(fig, msg) {\n",
       "    var width = fig.canvas.width/mpl.ratio\n",
       "    fig.root.unbind('remove')\n",
       "\n",
       "    // Update the output cell to use the data from the current canvas.\n",
       "    fig.push_to_output();\n",
       "    var dataURL = fig.canvas.toDataURL();\n",
       "    // Re-enable the keyboard manager in IPython - without this line, in FF,\n",
       "    // the notebook keyboard shortcuts fail.\n",
       "    IPython.keyboard_manager.enable()\n",
       "    $(fig.parent_element).html('<img src=\"' + dataURL + '\" width=\"' + width + '\">');\n",
       "    fig.close_ws(fig, msg);\n",
       "}\n",
       "\n",
       "mpl.figure.prototype.close_ws = function(fig, msg){\n",
       "    fig.send_message('closing', msg);\n",
       "    // fig.ws.close()\n",
       "}\n",
       "\n",
       "mpl.figure.prototype.push_to_output = function(remove_interactive) {\n",
       "    // Turn the data on the canvas into data in the output cell.\n",
       "    var width = this.canvas.width/mpl.ratio\n",
       "    var dataURL = this.canvas.toDataURL();\n",
       "    this.cell_info[1]['text/html'] = '<img src=\"' + dataURL + '\" width=\"' + width + '\">';\n",
       "}\n",
       "\n",
       "mpl.figure.prototype.updated_canvas_event = function() {\n",
       "    // Tell IPython that the notebook contents must change.\n",
       "    IPython.notebook.set_dirty(true);\n",
       "    this.send_message(\"ack\", {});\n",
       "    var fig = this;\n",
       "    // Wait a second, then push the new image to the DOM so\n",
       "    // that it is saved nicely (might be nice to debounce this).\n",
       "    setTimeout(function () { fig.push_to_output() }, 1000);\n",
       "}\n",
       "\n",
       "mpl.figure.prototype._init_toolbar = function() {\n",
       "    var fig = this;\n",
       "\n",
       "    var nav_element = $('<div/>')\n",
       "    nav_element.attr('style', 'width: 100%');\n",
       "    this.root.append(nav_element);\n",
       "\n",
       "    // Define a callback function for later on.\n",
       "    function toolbar_event(event) {\n",
       "        return fig.toolbar_button_onclick(event['data']);\n",
       "    }\n",
       "    function toolbar_mouse_event(event) {\n",
       "        return fig.toolbar_button_onmouseover(event['data']);\n",
       "    }\n",
       "\n",
       "    for(var toolbar_ind in mpl.toolbar_items){\n",
       "        var name = mpl.toolbar_items[toolbar_ind][0];\n",
       "        var tooltip = mpl.toolbar_items[toolbar_ind][1];\n",
       "        var image = mpl.toolbar_items[toolbar_ind][2];\n",
       "        var method_name = mpl.toolbar_items[toolbar_ind][3];\n",
       "\n",
       "        if (!name) { continue; };\n",
       "\n",
       "        var button = $('<button class=\"btn btn-default\" href=\"#\" title=\"' + name + '\"><i class=\"fa ' + image + ' fa-lg\"></i></button>');\n",
       "        button.click(method_name, toolbar_event);\n",
       "        button.mouseover(tooltip, toolbar_mouse_event);\n",
       "        nav_element.append(button);\n",
       "    }\n",
       "\n",
       "    // Add the status bar.\n",
       "    var status_bar = $('<span class=\"mpl-message\" style=\"text-align:right; float: right;\"/>');\n",
       "    nav_element.append(status_bar);\n",
       "    this.message = status_bar[0];\n",
       "\n",
       "    // Add the close button to the window.\n",
       "    var buttongrp = $('<div class=\"btn-group inline pull-right\"></div>');\n",
       "    var button = $('<button class=\"btn btn-mini btn-primary\" href=\"#\" title=\"Stop Interaction\"><i class=\"fa fa-power-off icon-remove icon-large\"></i></button>');\n",
       "    button.click(function (evt) { fig.handle_close(fig, {}); } );\n",
       "    button.mouseover('Stop Interaction', toolbar_mouse_event);\n",
       "    buttongrp.append(button);\n",
       "    var titlebar = this.root.find($('.ui-dialog-titlebar'));\n",
       "    titlebar.prepend(buttongrp);\n",
       "}\n",
       "\n",
       "mpl.figure.prototype._root_extra_style = function(el){\n",
       "    var fig = this\n",
       "    el.on(\"remove\", function(){\n",
       "\tfig.close_ws(fig, {});\n",
       "    });\n",
       "}\n",
       "\n",
       "mpl.figure.prototype._canvas_extra_style = function(el){\n",
       "    // this is important to make the div 'focusable\n",
       "    el.attr('tabindex', 0)\n",
       "    // reach out to IPython and tell the keyboard manager to turn it's self\n",
       "    // off when our div gets focus\n",
       "\n",
       "    // location in version 3\n",
       "    if (IPython.notebook.keyboard_manager) {\n",
       "        IPython.notebook.keyboard_manager.register_events(el);\n",
       "    }\n",
       "    else {\n",
       "        // location in version 2\n",
       "        IPython.keyboard_manager.register_events(el);\n",
       "    }\n",
       "\n",
       "}\n",
       "\n",
       "mpl.figure.prototype._key_event_extra = function(event, name) {\n",
       "    var manager = IPython.notebook.keyboard_manager;\n",
       "    if (!manager)\n",
       "        manager = IPython.keyboard_manager;\n",
       "\n",
       "    // Check for shift+enter\n",
       "    if (event.shiftKey && event.which == 13) {\n",
       "        this.canvas_div.blur();\n",
       "        // select the cell after this one\n",
       "        var index = IPython.notebook.find_cell_index(this.cell_info[0]);\n",
       "        IPython.notebook.select(index + 1);\n",
       "    }\n",
       "}\n",
       "\n",
       "mpl.figure.prototype.handle_save = function(fig, msg) {\n",
       "    fig.ondownload(fig, null);\n",
       "}\n",
       "\n",
       "\n",
       "mpl.find_output_cell = function(html_output) {\n",
       "    // Return the cell and output element which can be found *uniquely* in the notebook.\n",
       "    // Note - this is a bit hacky, but it is done because the \"notebook_saving.Notebook\"\n",
       "    // IPython event is triggered only after the cells have been serialised, which for\n",
       "    // our purposes (turning an active figure into a static one), is too late.\n",
       "    var cells = IPython.notebook.get_cells();\n",
       "    var ncells = cells.length;\n",
       "    for (var i=0; i<ncells; i++) {\n",
       "        var cell = cells[i];\n",
       "        if (cell.cell_type === 'code'){\n",
       "            for (var j=0; j<cell.output_area.outputs.length; j++) {\n",
       "                var data = cell.output_area.outputs[j];\n",
       "                if (data.data) {\n",
       "                    // IPython >= 3 moved mimebundle to data attribute of output\n",
       "                    data = data.data;\n",
       "                }\n",
       "                if (data['text/html'] == html_output) {\n",
       "                    return [cell, data, j];\n",
       "                }\n",
       "            }\n",
       "        }\n",
       "    }\n",
       "}\n",
       "\n",
       "// Register the function which deals with the matplotlib target/channel.\n",
       "// The kernel may be null if the page has been refreshed.\n",
       "if (IPython.notebook.kernel != null) {\n",
       "    IPython.notebook.kernel.comm_manager.register_target('matplotlib', mpl.mpl_figure_comm);\n",
       "}\n"
      ],
      "text/plain": [
       "<IPython.core.display.Javascript object>"
      ]
     },
     "metadata": {},
     "output_type": "display_data"
    },
    {
     "data": {
      "text/html": [
       "<img src=\"data:image/png;base64,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\" width=\"640\">"
      ],
      "text/plain": [
       "<IPython.core.display.HTML object>"
      ]
     },
     "metadata": {},
     "output_type": "display_data"
    },
    {
     "data": {
      "text/plain": [
       "<matplotlib.legend.Legend at 0xb5357b8>"
      ]
     },
     "execution_count": 31,
     "metadata": {},
     "output_type": "execute_result"
    }
   ],
   "source": [
    "import matplotlib.pyplot as plt\n",
    "import sklearn.linear_model as lm\n",
    "\n",
    "%matplotlib notebook\n",
    "alpha, coef, _ = lm.lasso_path(X_train, y_train)\n",
    "for i in range(14):\n",
    "    plt.plot(np.log(alpha), coef[i, :], label=X_train.columns[i])\n",
    "plt.legend(loc='lower right')"
   ]
  },
  {
   "cell_type": "markdown",
   "metadata": {
    "collapsed": false
   },
   "source": [
    "## XGBoost"
   ]
  },
  {
   "cell_type": "code",
   "execution_count": 37,
   "metadata": {
    "collapsed": false
   },
   "outputs": [
    {
     "data": {
      "text/plain": [
       "XGBClassifier(base_score=0.5, colsample_bylevel=1, colsample_bytree=0.8,\n",
       "       gamma=0, learning_rate=0.1, max_delta_step=0, max_depth=3,\n",
       "       min_child_weight=2, missing=None, n_estimators=58, nthread=-1,\n",
       "       objective='binary:logistic', reg_alpha=0, reg_lambda=1,\n",
       "       scale_pos_weight=1, seed=0, silent=True, subsample=0.8)"
      ]
     },
     "execution_count": 37,
     "metadata": {},
     "output_type": "execute_result"
    }
   ],
   "source": [
    "import xgboost as xgb\n",
    "from xgboost.sklearn import XGBClassifier\n",
    "\n",
    "#xgbmodel = ms.GridSearchCV(XGBClassifier(n_estimators=58,max_depth=3, min_child_weight=2,\n",
    "#                                        gamma = 0, colsample_bytree=0.8),\n",
    "#                           param_grid={'subsample': np.arange(0.8, 1, 0.1)},\n",
    "#                           scoring='neg_log_loss',\n",
    "#                           n_jobs = -1,\n",
    "#                          verbose = 3)\n",
    "\n",
    "xgbmodel = XGBClassifier(n_estimators=58,max_depth=3, min_child_weight=2, gamma = 0,\n",
    "                        subsample=0.8, colsample_bytree=0.8)\n",
    "\n",
    "xgbmodel.fit(X_train, y_train)"
   ]
  },
  {
   "cell_type": "code",
   "execution_count": 33,
   "metadata": {
    "collapsed": false
   },
   "outputs": [
    {
     "name": "stdout",
     "output_type": "stream",
     "text": [
      "-0.524883688194\n"
     ]
    }
   ],
   "source": [
    "print(xgbmodel.best_score_)"
   ]
  },
  {
   "cell_type": "code",
   "execution_count": 36,
   "metadata": {
    "collapsed": false
   },
   "outputs": [
    {
     "name": "stdout",
     "output_type": "stream",
     "text": [
      "{'subsample': 0.80000000000000004}\n"
     ]
    }
   ],
   "source": [
    "print(xgbmodel.best_params_)"
   ]
  },
  {
   "cell_type": "markdown",
   "metadata": {
    "collapsed": true
   },
   "source": [
    "XGBoost looks like it can get me to -0.524869145553"
   ]
  },
  {
   "cell_type": "code",
   "execution_count": 38,
   "metadata": {
    "collapsed": false
   },
   "outputs": [
    {
     "data": {
      "text/plain": [
       "0.51858196517147159"
      ]
     },
     "execution_count": 38,
     "metadata": {},
     "output_type": "execute_result"
    }
   ],
   "source": [
    "xgpredicted = xgbmodel.predict_proba(X_test)[:, 1]\n",
    "log_loss(y_test, xgpredicted)"
   ]
  },
  {
   "cell_type": "code",
   "execution_count": 41,
   "metadata": {
    "collapsed": false
   },
   "outputs": [],
   "source": [
    "# plot feature importance\n",
    "def get_xgb_imp(xgb, feat_names):\n",
    "    from numpy import array\n",
    "    imp_vals = xgb.booster().get_fscore()\n",
    "    imp_dict = {feat_names[i]:float(imp_vals.get('f'+str(i),0.)) for i in range(len(feat_names))}\n",
    "    total = array(imp_dict.values()).sum()\n",
    "    return {k:v/total for k,v in imp_dict.items()}"
   ]
  },
  {
   "cell_type": "code",
   "execution_count": 42,
   "metadata": {
    "collapsed": false
   },
   "outputs": [
    {
     "name": "stderr",
     "output_type": "stream",
     "text": [
      "C:\\Users\\whinesjr\\AppData\\Local\\Continuum\\Anaconda2\\lib\\site-packages\\ipykernel\\__main__.py:7: RuntimeWarning: invalid value encountered in double_scalars\n"
     ]
    },
    {
     "data": {
      "text/plain": [
       "{'astDif': nan,\n",
       " 'blkDif': nan,\n",
       " 'defRatDif': nan,\n",
       " 'drDif': nan,\n",
       " 'eloDif': nan,\n",
       " 'fg3pDif': nan,\n",
       " 'fgpDif': nan,\n",
       " 'ftpDif': nan,\n",
       " 'offRatDif': nan,\n",
       " 'orDif': nan,\n",
       " 'pfDif': nan,\n",
       " 'scoreDif': nan,\n",
       " 'stlDif': nan,\n",
       " 'toDif': nan}"
      ]
     },
     "execution_count": 42,
     "metadata": {},
     "output_type": "execute_result"
    }
   ],
   "source": [
    "get_xgb_imp(xgbmodel,X_train.columns)"
   ]
  },
  {
   "cell_type": "markdown",
   "metadata": {
    "collapsed": true
   },
   "source": [
    "## Descision Tree"
   ]
  },
  {
   "cell_type": "code",
   "execution_count": 43,
   "metadata": {
    "collapsed": false
   },
   "outputs": [
    {
     "data": {
      "text/plain": [
       "DecisionTreeClassifier(class_weight=None, criterion='gini', max_depth=6,\n",
       "            max_features=None, max_leaf_nodes=None,\n",
       "            min_impurity_split=1e-07, min_samples_leaf=20,\n",
       "            min_samples_split=2, min_weight_fraction_leaf=0.0,\n",
       "            presort=False, random_state=None, splitter='best')"
      ]
     },
     "execution_count": 43,
     "metadata": {},
     "output_type": "execute_result"
    }
   ],
   "source": [
    "from sklearn.tree import DecisionTreeClassifier\n",
    "\n",
    "#treeModel = ms.GridSearchCV(DecisionTreeClassifier(),\n",
    "#                            {'max_depth': range(2, 10, 1),\n",
    "#                             'min_samples_leaf': range(5, 25, 5)},\n",
    "#                            scoring='neg_log_loss',\n",
    "#                            verbose = 3,\n",
    "#                            n_jobs = -1)\n",
    "\n",
    "treeModel = DecisionTreeClassifier(max_depth= 6, min_samples_leaf= 20)\n",
    "\n",
    "treeModel.fit(X_train, y_train)"
   ]
  },
  {
   "cell_type": "code",
   "execution_count": 164,
   "metadata": {
    "collapsed": false
   },
   "outputs": [
    {
     "name": "stdout",
     "output_type": "stream",
     "text": [
      "-0.534390103677\n",
      "{'max_depth': 6, 'min_samples_leaf': 20}\n"
     ]
    }
   ],
   "source": [
    "print(treeModel.best_score_)\n",
    "print(treeModel.best_params_)"
   ]
  },
  {
   "cell_type": "markdown",
   "metadata": {
    "collapsed": false
   },
   "source": [
    "A decision tree can get to 0.534390103677"
   ]
  },
  {
   "cell_type": "code",
   "execution_count": 44,
   "metadata": {
    "collapsed": false
   },
   "outputs": [
    {
     "data": {
      "text/plain": [
       "0.52786852542045226"
      ]
     },
     "execution_count": 44,
     "metadata": {},
     "output_type": "execute_result"
    }
   ],
   "source": [
    "DTpredicted = treeModel.predict_proba(X_test)[:, 1]\n",
    "log_loss(y_test, DTpredicted)"
   ]
  },
  {
   "cell_type": "markdown",
   "metadata": {},
   "source": [
    "## Random Forest"
   ]
  },
  {
   "cell_type": "code",
   "execution_count": 46,
   "metadata": {
    "collapsed": false
   },
   "outputs": [
    {
     "name": "stdout",
     "output_type": "stream",
     "text": [
      "Fitting 3 folds for each of 3 candidates, totalling 9 fits\n"
     ]
    },
    {
     "name": "stderr",
     "output_type": "stream",
     "text": [
      "[Parallel(n_jobs=-1)]: Done   6 out of   9 | elapsed:  4.3min remaining:  2.2min\n",
      "[Parallel(n_jobs=-1)]: Done   9 out of   9 | elapsed:  6.0min finished\n"
     ]
    },
    {
     "data": {
      "text/plain": [
       "GridSearchCV(cv=None, error_score='raise',\n",
       "       estimator=RandomForestClassifier(bootstrap=True, class_weight=None, criterion='gini',\n",
       "            max_depth=None, max_features='auto', max_leaf_nodes=None,\n",
       "            min_impurity_split=1e-07, min_samples_leaf=1,\n",
       "            min_samples_split=2, min_weight_fraction_leaf=0.0,\n",
       "            n_estimators=10, n_jobs=1, oob_score=False, random_state=None,\n",
       "            verbose=0, warm_start=False),\n",
       "       fit_params={}, iid=True, n_jobs=-1,\n",
       "       param_grid={'n_estimators': [150, 175, 200]},\n",
       "       pre_dispatch='2*n_jobs', refit=True, return_train_score=True,\n",
       "       scoring='neg_log_loss', verbose=3)"
      ]
     },
     "execution_count": 46,
     "metadata": {},
     "output_type": "execute_result"
    }
   ],
   "source": [
    "from sklearn.ensemble import RandomForestClassifier\n",
    "\n",
    "forestModel=ms.GridSearchCV(RandomForestClassifier(),\n",
    "                     {'n_estimators': range(150, 201, 25)},#,\n",
    "                      #'max_depth': range(2, 20, 2),\n",
    "                      #'min_samples_leaf': range(10, 25, 5),\n",
    "                      #'max_features': range(2, 4)},\n",
    "                     scoring='neg_log_loss',\n",
    "                           verbose = 3,\n",
    "                           n_jobs = -1)\n",
    "forestModel.fit(X_train, y_train)"
   ]
  },
  {
   "cell_type": "code",
   "execution_count": 47,
   "metadata": {
    "collapsed": false
   },
   "outputs": [
    {
     "name": "stdout",
     "output_type": "stream",
     "text": [
      "-0.566788854132\n",
      "{'n_estimators': 200}\n"
     ]
    }
   ],
   "source": [
    "print(forestModel.best_score_)\n",
    "print(forestModel.best_params_)"
   ]
  },
  {
   "cell_type": "code",
   "execution_count": 48,
   "metadata": {
    "collapsed": false
   },
   "outputs": [
    {
     "data": {
      "text/plain": [
       "0.57887464197223359"
      ]
     },
     "execution_count": 48,
     "metadata": {},
     "output_type": "execute_result"
    }
   ],
   "source": [
    "RFpredicted = forestModel.predict_proba(X_test)[:, 1]\n",
    "log_loss(y_test, RFpredicted)"
   ]
  },
  {
   "cell_type": "markdown",
   "metadata": {},
   "source": [
    "## RESULTS\n",
    "\n",
    "These are the results for all possible 2016 combinations. At the end I put them into the official Kaggle submission format so I could use a script I found to output tournament results"
   ]
  },
  {
   "cell_type": "code",
   "execution_count": 249,
   "metadata": {
    "collapsed": true
   },
   "outputs": [],
   "source": [
    "import itertools\n",
    "games =  pd.DataFrame(list(itertools.combinations(tourneySeeds.loc[(tourneySeeds['Season'] == 2016)]['Team'], 2)))"
   ]
  },
  {
   "cell_type": "code",
   "execution_count": 250,
   "metadata": {
    "collapsed": true
   },
   "outputs": [],
   "source": [
    "games['season'] = 2016"
   ]
  },
  {
   "cell_type": "code",
   "execution_count": 251,
   "metadata": {
    "collapsed": true
   },
   "outputs": [],
   "source": [
    "games.columns = ['team','opp','season']"
   ]
  },
  {
   "cell_type": "code",
   "execution_count": 252,
   "metadata": {
    "collapsed": true
   },
   "outputs": [],
   "source": [
    "games = pd.merge(games, seasonStats[['season', 'team', 'toAvg','scoreAvg', 'pfAvg', 'blkAvg', 'astAvg', 'drAvg',\n",
    "'stlAvg', 'orAvg', 'fgp', 'fg3p', 'ftp', 'OffRating', 'DefRating']],  how='left',\n",
    "              left_on=['season','team'], right_on = ['season','team'])"
   ]
  },
  {
   "cell_type": "code",
   "execution_count": 253,
   "metadata": {
    "collapsed": true
   },
   "outputs": [],
   "source": [
    "games = pd.merge(games, seasonStats[['season', 'team', 'toAvg','scoreAvg', 'pfAvg', 'blkAvg', 'astAvg', 'drAvg',\n",
    "'stlAvg', 'orAvg', 'fgp', 'fg3p', 'ftp', 'OffRating', 'DefRating']],  how='left',\n",
    "              left_on=['season','opp'], right_on = ['season','team'])"
   ]
  },
  {
   "cell_type": "code",
   "execution_count": 254,
   "metadata": {
    "collapsed": true
   },
   "outputs": [],
   "source": [
    "games['toDif'] = games['toAvg_x'] - games['toAvg_y']\n",
    "games['scoreDif'] = games['scoreAvg_x'] - games['scoreAvg_y']\n",
    "games['pfDif'] = games['pfAvg_x'] - games['pfAvg_y']\n",
    "games['blkDif'] = games['blkAvg_x'] - games['blkAvg_y']\n",
    "games['astDif'] = games['astAvg_x'] - games['astAvg_y']\n",
    "games['drDif'] = games['drAvg_x'] - games['drAvg_y']\n",
    "games['stlDif'] = games['stlAvg_x'] - games['stlAvg_y']\n",
    "games['orDif'] = games['orAvg_x'] - games['orAvg_y']\n",
    "games['fgpDif'] = games['fgp_x'] - games['fgp_y']\n",
    "games['fg3pDif'] = games['fg3p_x'] - games['fg3p_y']\n",
    "games['ftpDif'] = games['ftp_x'] - games['ftp_y']\n",
    "games['offRatDif'] = games['OffRating_x'] - games['OffRating_y']\n",
    "games['defRatDif'] = games['DefRating_x'] - games['DefRating_y']"
   ]
  },
  {
   "cell_type": "code",
   "execution_count": 255,
   "metadata": {
    "collapsed": true
   },
   "outputs": [],
   "source": [
    "games.drop(['toAvg_x',\n",
    "       'scoreAvg_x', 'pfAvg_x', 'blkAvg_x', 'astAvg_x', 'drAvg_x',\n",
    "       'stlAvg_x', 'orAvg_x', 'fgp_x', 'fg3p_x', 'ftp_x', 'OffRating_x',\n",
    "       'DefRating_x', 'team_y', 'toAvg_y', 'scoreAvg_y', 'pfAvg_y',\n",
    "       'blkAvg_y', 'astAvg_y', 'drAvg_y', 'stlAvg_y', 'orAvg_y', 'fgp_y',\n",
    "       'fg3p_y', 'ftp_y', 'OffRating_y', 'DefRating_y'], axis = 1, inplace = True)"
   ]
  },
  {
   "cell_type": "code",
   "execution_count": 256,
   "metadata": {
    "collapsed": true
   },
   "outputs": [],
   "source": [
    "games.rename(columns={'team_x':'team'}, inplace=True)"
   ]
  },
  {
   "cell_type": "code",
   "execution_count": 257,
   "metadata": {
    "collapsed": false
   },
   "outputs": [
    {
     "data": {
      "text/html": [
       "<div>\n",
       "<table border=\"1\" class=\"dataframe\">\n",
       "  <thead>\n",
       "    <tr style=\"text-align: right;\">\n",
       "      <th></th>\n",
       "      <th>team</th>\n",
       "      <th>opp</th>\n",
       "      <th>season</th>\n",
       "      <th>toDif</th>\n",
       "      <th>scoreDif</th>\n",
       "      <th>pfDif</th>\n",
       "      <th>blkDif</th>\n",
       "      <th>astDif</th>\n",
       "      <th>drDif</th>\n",
       "      <th>stlDif</th>\n",
       "      <th>orDif</th>\n",
       "      <th>fgpDif</th>\n",
       "      <th>fg3pDif</th>\n",
       "      <th>ftpDif</th>\n",
       "      <th>offRatDif</th>\n",
       "      <th>defRatDif</th>\n",
       "    </tr>\n",
       "  </thead>\n",
       "  <tbody>\n",
       "    <tr>\n",
       "      <th>0</th>\n",
       "      <td>1314</td>\n",
       "      <td>1462</td>\n",
       "      <td>2016</td>\n",
       "      <td>-1.838235</td>\n",
       "      <td>0.920956</td>\n",
       "      <td>-2.275735</td>\n",
       "      <td>1.319853</td>\n",
       "      <td>1.742647</td>\n",
       "      <td>-0.996324</td>\n",
       "      <td>-0.430147</td>\n",
       "      <td>0.966912</td>\n",
       "      <td>0.026726</td>\n",
       "      <td>-0.047713</td>\n",
       "      <td>0.006819</td>\n",
       "      <td>4.878343</td>\n",
       "      <td>1.503181</td>\n",
       "    </tr>\n",
       "    <tr>\n",
       "      <th>1</th>\n",
       "      <td>1314</td>\n",
       "      <td>1452</td>\n",
       "      <td>2016</td>\n",
       "      <td>-3.088235</td>\n",
       "      <td>3.058824</td>\n",
       "      <td>-5.470588</td>\n",
       "      <td>1.852941</td>\n",
       "      <td>3.352941</td>\n",
       "      <td>3.676471</td>\n",
       "      <td>-3.058824</td>\n",
       "      <td>-1.882353</td>\n",
       "      <td>0.026543</td>\n",
       "      <td>-0.014655</td>\n",
       "      <td>0.067747</td>\n",
       "      <td>5.768766</td>\n",
       "      <td>4.882659</td>\n",
       "    </tr>\n",
       "    <tr>\n",
       "      <th>2</th>\n",
       "      <td>1314</td>\n",
       "      <td>1246</td>\n",
       "      <td>2016</td>\n",
       "      <td>-0.088235</td>\n",
       "      <td>2.588235</td>\n",
       "      <td>-2.558824</td>\n",
       "      <td>-1.264706</td>\n",
       "      <td>3.705882</td>\n",
       "      <td>1.235294</td>\n",
       "      <td>1.264706</td>\n",
       "      <td>1.147059</td>\n",
       "      <td>0.000177</td>\n",
       "      <td>-0.056593</td>\n",
       "      <td>0.054191</td>\n",
       "      <td>0.706771</td>\n",
       "      <td>0.064546</td>\n",
       "    </tr>\n",
       "    <tr>\n",
       "      <th>3</th>\n",
       "      <td>1314</td>\n",
       "      <td>1231</td>\n",
       "      <td>2016</td>\n",
       "      <td>-2.744485</td>\n",
       "      <td>-0.016544</td>\n",
       "      <td>-0.275735</td>\n",
       "      <td>0.413603</td>\n",
       "      <td>2.148897</td>\n",
       "      <td>1.597426</td>\n",
       "      <td>-0.055147</td>\n",
       "      <td>1.998162</td>\n",
       "      <td>-0.022335</td>\n",
       "      <td>-0.100805</td>\n",
       "      <td>0.014561</td>\n",
       "      <td>-2.203306</td>\n",
       "      <td>-1.027679</td>\n",
       "    </tr>\n",
       "    <tr>\n",
       "      <th>4</th>\n",
       "      <td>1314</td>\n",
       "      <td>1323</td>\n",
       "      <td>2016</td>\n",
       "      <td>1.193015</td>\n",
       "      <td>6.545956</td>\n",
       "      <td>2.411765</td>\n",
       "      <td>0.476103</td>\n",
       "      <td>4.648897</td>\n",
       "      <td>1.784926</td>\n",
       "      <td>1.288603</td>\n",
       "      <td>3.123162</td>\n",
       "      <td>0.007480</td>\n",
       "      <td>-0.055023</td>\n",
       "      <td>0.002295</td>\n",
       "      <td>1.365835</td>\n",
       "      <td>-8.436242</td>\n",
       "    </tr>\n",
       "  </tbody>\n",
       "</table>\n",
       "</div>"
      ],
      "text/plain": [
       "   team   opp  season     toDif  scoreDif     pfDif    blkDif    astDif  \\\n",
       "0  1314  1462    2016 -1.838235  0.920956 -2.275735  1.319853  1.742647   \n",
       "1  1314  1452    2016 -3.088235  3.058824 -5.470588  1.852941  3.352941   \n",
       "2  1314  1246    2016 -0.088235  2.588235 -2.558824 -1.264706  3.705882   \n",
       "3  1314  1231    2016 -2.744485 -0.016544 -0.275735  0.413603  2.148897   \n",
       "4  1314  1323    2016  1.193015  6.545956  2.411765  0.476103  4.648897   \n",
       "\n",
       "      drDif    stlDif     orDif    fgpDif   fg3pDif    ftpDif  offRatDif  \\\n",
       "0 -0.996324 -0.430147  0.966912  0.026726 -0.047713  0.006819   4.878343   \n",
       "1  3.676471 -3.058824 -1.882353  0.026543 -0.014655  0.067747   5.768766   \n",
       "2  1.235294  1.264706  1.147059  0.000177 -0.056593  0.054191   0.706771   \n",
       "3  1.597426 -0.055147  1.998162 -0.022335 -0.100805  0.014561  -2.203306   \n",
       "4  1.784926  1.288603  3.123162  0.007480 -0.055023  0.002295   1.365835   \n",
       "\n",
       "   defRatDif  \n",
       "0   1.503181  \n",
       "1   4.882659  \n",
       "2   0.064546  \n",
       "3  -1.027679  \n",
       "4  -8.436242  "
      ]
     },
     "execution_count": 257,
     "metadata": {},
     "output_type": "execute_result"
    }
   ],
   "source": [
    "games.head()"
   ]
  },
  {
   "cell_type": "code",
   "execution_count": 258,
   "metadata": {
    "collapsed": false
   },
   "outputs": [],
   "source": [
    "finalELO = eloTotals.groupby(['season','team'], as_index = False).agg({'daynum': max})"
   ]
  },
  {
   "cell_type": "code",
   "execution_count": 259,
   "metadata": {
    "collapsed": false
   },
   "outputs": [],
   "source": [
    "finalELO = pd.merge(finalELO, eloTotals, how='left', left_on=['season','daynum','team'],\n",
    "                 right_on=['season','daynum','team'])"
   ]
  },
  {
   "cell_type": "code",
   "execution_count": 260,
   "metadata": {
    "collapsed": false
   },
   "outputs": [
    {
     "data": {
      "text/html": [
       "<div>\n",
       "<table border=\"1\" class=\"dataframe\">\n",
       "  <thead>\n",
       "    <tr style=\"text-align: right;\">\n",
       "      <th></th>\n",
       "      <th>season</th>\n",
       "      <th>team</th>\n",
       "      <th>daynum</th>\n",
       "      <th>elo</th>\n",
       "    </tr>\n",
       "  </thead>\n",
       "  <tbody>\n",
       "    <tr>\n",
       "      <th>0</th>\n",
       "      <td>1985</td>\n",
       "      <td>1102</td>\n",
       "      <td>127</td>\n",
       "      <td>1361</td>\n",
       "    </tr>\n",
       "    <tr>\n",
       "      <th>1</th>\n",
       "      <td>1985</td>\n",
       "      <td>1103</td>\n",
       "      <td>119</td>\n",
       "      <td>1433</td>\n",
       "    </tr>\n",
       "    <tr>\n",
       "      <th>2</th>\n",
       "      <td>1985</td>\n",
       "      <td>1104</td>\n",
       "      <td>144</td>\n",
       "      <td>1771</td>\n",
       "    </tr>\n",
       "    <tr>\n",
       "      <th>3</th>\n",
       "      <td>1985</td>\n",
       "      <td>1106</td>\n",
       "      <td>126</td>\n",
       "      <td>1394</td>\n",
       "    </tr>\n",
       "    <tr>\n",
       "      <th>4</th>\n",
       "      <td>1985</td>\n",
       "      <td>1108</td>\n",
       "      <td>131</td>\n",
       "      <td>1705</td>\n",
       "    </tr>\n",
       "  </tbody>\n",
       "</table>\n",
       "</div>"
      ],
      "text/plain": [
       "   season  team  daynum   elo\n",
       "0    1985  1102     127  1361\n",
       "1    1985  1103     119  1433\n",
       "2    1985  1104     144  1771\n",
       "3    1985  1106     126  1394\n",
       "4    1985  1108     131  1705"
      ]
     },
     "execution_count": 260,
     "metadata": {},
     "output_type": "execute_result"
    }
   ],
   "source": [
    "finalELO.head()"
   ]
  },
  {
   "cell_type": "code",
   "execution_count": 261,
   "metadata": {
    "collapsed": true
   },
   "outputs": [],
   "source": [
    "games = pd.merge(games, finalELO,  how='left',\n",
    "              left_on=['season','team'], right_on = ['season','team'])"
   ]
  },
  {
   "cell_type": "code",
   "execution_count": 262,
   "metadata": {
    "collapsed": false
   },
   "outputs": [],
   "source": [
    "games = pd.merge(games, finalELO,  how='left',\n",
    "              left_on=['season','opp'], right_on = ['season','team'])"
   ]
  },
  {
   "cell_type": "code",
   "execution_count": 263,
   "metadata": {
    "collapsed": false
   },
   "outputs": [],
   "source": [
    "games['eloDif'] = games['elo_x'] - games['elo_y']"
   ]
  },
  {
   "cell_type": "code",
   "execution_count": 264,
   "metadata": {
    "collapsed": false
   },
   "outputs": [
    {
     "data": {
      "text/html": [
       "<div>\n",
       "<table border=\"1\" class=\"dataframe\">\n",
       "  <thead>\n",
       "    <tr style=\"text-align: right;\">\n",
       "      <th></th>\n",
       "      <th>team_x</th>\n",
       "      <th>opp</th>\n",
       "      <th>season</th>\n",
       "      <th>toDif</th>\n",
       "      <th>scoreDif</th>\n",
       "      <th>pfDif</th>\n",
       "      <th>blkDif</th>\n",
       "      <th>astDif</th>\n",
       "      <th>drDif</th>\n",
       "      <th>stlDif</th>\n",
       "      <th>...</th>\n",
       "      <th>fg3pDif</th>\n",
       "      <th>ftpDif</th>\n",
       "      <th>offRatDif</th>\n",
       "      <th>defRatDif</th>\n",
       "      <th>daynum_x</th>\n",
       "      <th>elo_x</th>\n",
       "      <th>team_y</th>\n",
       "      <th>daynum_y</th>\n",
       "      <th>elo_y</th>\n",
       "      <th>eloDif</th>\n",
       "    </tr>\n",
       "  </thead>\n",
       "  <tbody>\n",
       "    <tr>\n",
       "      <th>0</th>\n",
       "      <td>1314</td>\n",
       "      <td>1462</td>\n",
       "      <td>2016</td>\n",
       "      <td>-1.838235</td>\n",
       "      <td>0.920956</td>\n",
       "      <td>-2.275735</td>\n",
       "      <td>1.319853</td>\n",
       "      <td>1.742647</td>\n",
       "      <td>-0.996324</td>\n",
       "      <td>-0.430147</td>\n",
       "      <td>...</td>\n",
       "      <td>-0.047713</td>\n",
       "      <td>0.006819</td>\n",
       "      <td>4.878343</td>\n",
       "      <td>1.503181</td>\n",
       "      <td>154</td>\n",
       "      <td>2075</td>\n",
       "      <td>1462</td>\n",
       "      <td>139</td>\n",
       "      <td>1922</td>\n",
       "      <td>153</td>\n",
       "    </tr>\n",
       "    <tr>\n",
       "      <th>1</th>\n",
       "      <td>1314</td>\n",
       "      <td>1452</td>\n",
       "      <td>2016</td>\n",
       "      <td>-3.088235</td>\n",
       "      <td>3.058824</td>\n",
       "      <td>-5.470588</td>\n",
       "      <td>1.852941</td>\n",
       "      <td>3.352941</td>\n",
       "      <td>3.676471</td>\n",
       "      <td>-3.058824</td>\n",
       "      <td>...</td>\n",
       "      <td>-0.014655</td>\n",
       "      <td>0.067747</td>\n",
       "      <td>5.768766</td>\n",
       "      <td>4.882659</td>\n",
       "      <td>154</td>\n",
       "      <td>2075</td>\n",
       "      <td>1452</td>\n",
       "      <td>137</td>\n",
       "      <td>1911</td>\n",
       "      <td>164</td>\n",
       "    </tr>\n",
       "    <tr>\n",
       "      <th>2</th>\n",
       "      <td>1314</td>\n",
       "      <td>1246</td>\n",
       "      <td>2016</td>\n",
       "      <td>-0.088235</td>\n",
       "      <td>2.588235</td>\n",
       "      <td>-2.558824</td>\n",
       "      <td>-1.264706</td>\n",
       "      <td>3.705882</td>\n",
       "      <td>1.235294</td>\n",
       "      <td>1.264706</td>\n",
       "      <td>...</td>\n",
       "      <td>-0.056593</td>\n",
       "      <td>0.054191</td>\n",
       "      <td>0.706771</td>\n",
       "      <td>0.064546</td>\n",
       "      <td>154</td>\n",
       "      <td>2075</td>\n",
       "      <td>1246</td>\n",
       "      <td>138</td>\n",
       "      <td>1943</td>\n",
       "      <td>132</td>\n",
       "    </tr>\n",
       "    <tr>\n",
       "      <th>3</th>\n",
       "      <td>1314</td>\n",
       "      <td>1231</td>\n",
       "      <td>2016</td>\n",
       "      <td>-2.744485</td>\n",
       "      <td>-0.016544</td>\n",
       "      <td>-0.275735</td>\n",
       "      <td>0.413603</td>\n",
       "      <td>2.148897</td>\n",
       "      <td>1.597426</td>\n",
       "      <td>-0.055147</td>\n",
       "      <td>...</td>\n",
       "      <td>-0.100805</td>\n",
       "      <td>0.014561</td>\n",
       "      <td>-2.203306</td>\n",
       "      <td>-1.027679</td>\n",
       "      <td>154</td>\n",
       "      <td>2075</td>\n",
       "      <td>1231</td>\n",
       "      <td>144</td>\n",
       "      <td>1920</td>\n",
       "      <td>155</td>\n",
       "    </tr>\n",
       "    <tr>\n",
       "      <th>4</th>\n",
       "      <td>1314</td>\n",
       "      <td>1323</td>\n",
       "      <td>2016</td>\n",
       "      <td>1.193015</td>\n",
       "      <td>6.545956</td>\n",
       "      <td>2.411765</td>\n",
       "      <td>0.476103</td>\n",
       "      <td>4.648897</td>\n",
       "      <td>1.784926</td>\n",
       "      <td>1.288603</td>\n",
       "      <td>...</td>\n",
       "      <td>-0.055023</td>\n",
       "      <td>0.002295</td>\n",
       "      <td>1.365835</td>\n",
       "      <td>-8.436242</td>\n",
       "      <td>154</td>\n",
       "      <td>2075</td>\n",
       "      <td>1323</td>\n",
       "      <td>146</td>\n",
       "      <td>1899</td>\n",
       "      <td>176</td>\n",
       "    </tr>\n",
       "  </tbody>\n",
       "</table>\n",
       "<p>5 rows × 22 columns</p>\n",
       "</div>"
      ],
      "text/plain": [
       "   team_x   opp  season     toDif  scoreDif     pfDif    blkDif    astDif  \\\n",
       "0    1314  1462    2016 -1.838235  0.920956 -2.275735  1.319853  1.742647   \n",
       "1    1314  1452    2016 -3.088235  3.058824 -5.470588  1.852941  3.352941   \n",
       "2    1314  1246    2016 -0.088235  2.588235 -2.558824 -1.264706  3.705882   \n",
       "3    1314  1231    2016 -2.744485 -0.016544 -0.275735  0.413603  2.148897   \n",
       "4    1314  1323    2016  1.193015  6.545956  2.411765  0.476103  4.648897   \n",
       "\n",
       "      drDif    stlDif   ...     fg3pDif    ftpDif  offRatDif  defRatDif  \\\n",
       "0 -0.996324 -0.430147   ...   -0.047713  0.006819   4.878343   1.503181   \n",
       "1  3.676471 -3.058824   ...   -0.014655  0.067747   5.768766   4.882659   \n",
       "2  1.235294  1.264706   ...   -0.056593  0.054191   0.706771   0.064546   \n",
       "3  1.597426 -0.055147   ...   -0.100805  0.014561  -2.203306  -1.027679   \n",
       "4  1.784926  1.288603   ...   -0.055023  0.002295   1.365835  -8.436242   \n",
       "\n",
       "   daynum_x  elo_x  team_y  daynum_y  elo_y  eloDif  \n",
       "0       154   2075    1462       139   1922     153  \n",
       "1       154   2075    1452       137   1911     164  \n",
       "2       154   2075    1246       138   1943     132  \n",
       "3       154   2075    1231       144   1920     155  \n",
       "4       154   2075    1323       146   1899     176  \n",
       "\n",
       "[5 rows x 22 columns]"
      ]
     },
     "execution_count": 264,
     "metadata": {},
     "output_type": "execute_result"
    }
   ],
   "source": [
    "games.head()"
   ]
  },
  {
   "cell_type": "code",
   "execution_count": 265,
   "metadata": {
    "collapsed": true
   },
   "outputs": [],
   "source": [
    "predicted = lr.predict_proba(games[['toDif', 'scoreDif', 'pfDif', 'blkDif', 'astDif','drDif',\n",
    "                                    'stlDif', 'orDif', 'fgpDif', 'fg3pDif','ftpDif',\n",
    "                                    'offRatDif', 'defRatDif','eloDif']])[:, 1]  "
   ]
  },
  {
   "cell_type": "code",
   "execution_count": 266,
   "metadata": {
    "collapsed": false
   },
   "outputs": [
    {
     "data": {
      "text/plain": [
       "array([ 0.68279512,  0.67688102,  0.57592936, ...,  0.87657718,\n",
       "        0.76636709,  0.31662767])"
      ]
     },
     "execution_count": 266,
     "metadata": {},
     "output_type": "execute_result"
    }
   ],
   "source": [
    "predicted"
   ]
  },
  {
   "cell_type": "code",
   "execution_count": 267,
   "metadata": {
    "collapsed": true
   },
   "outputs": [],
   "source": [
    "games['predicted'] = predicted"
   ]
  },
  {
   "cell_type": "code",
   "execution_count": 268,
   "metadata": {
    "collapsed": false
   },
   "outputs": [
    {
     "data": {
      "text/html": [
       "<div>\n",
       "<table border=\"1\" class=\"dataframe\">\n",
       "  <thead>\n",
       "    <tr style=\"text-align: right;\">\n",
       "      <th></th>\n",
       "      <th>team_x</th>\n",
       "      <th>opp</th>\n",
       "      <th>season</th>\n",
       "      <th>toDif</th>\n",
       "      <th>scoreDif</th>\n",
       "      <th>pfDif</th>\n",
       "      <th>blkDif</th>\n",
       "      <th>astDif</th>\n",
       "      <th>drDif</th>\n",
       "      <th>stlDif</th>\n",
       "      <th>...</th>\n",
       "      <th>ftpDif</th>\n",
       "      <th>offRatDif</th>\n",
       "      <th>defRatDif</th>\n",
       "      <th>daynum_x</th>\n",
       "      <th>elo_x</th>\n",
       "      <th>team_y</th>\n",
       "      <th>daynum_y</th>\n",
       "      <th>elo_y</th>\n",
       "      <th>eloDif</th>\n",
       "      <th>predicted</th>\n",
       "    </tr>\n",
       "  </thead>\n",
       "  <tbody>\n",
       "    <tr>\n",
       "      <th>0</th>\n",
       "      <td>1314</td>\n",
       "      <td>1462</td>\n",
       "      <td>2016</td>\n",
       "      <td>-1.838235</td>\n",
       "      <td>0.920956</td>\n",
       "      <td>-2.275735</td>\n",
       "      <td>1.319853</td>\n",
       "      <td>1.742647</td>\n",
       "      <td>-0.996324</td>\n",
       "      <td>-0.430147</td>\n",
       "      <td>...</td>\n",
       "      <td>0.006819</td>\n",
       "      <td>4.878343</td>\n",
       "      <td>1.503181</td>\n",
       "      <td>154</td>\n",
       "      <td>2075</td>\n",
       "      <td>1462</td>\n",
       "      <td>139</td>\n",
       "      <td>1922</td>\n",
       "      <td>153</td>\n",
       "      <td>0.682795</td>\n",
       "    </tr>\n",
       "    <tr>\n",
       "      <th>1</th>\n",
       "      <td>1314</td>\n",
       "      <td>1452</td>\n",
       "      <td>2016</td>\n",
       "      <td>-3.088235</td>\n",
       "      <td>3.058824</td>\n",
       "      <td>-5.470588</td>\n",
       "      <td>1.852941</td>\n",
       "      <td>3.352941</td>\n",
       "      <td>3.676471</td>\n",
       "      <td>-3.058824</td>\n",
       "      <td>...</td>\n",
       "      <td>0.067747</td>\n",
       "      <td>5.768766</td>\n",
       "      <td>4.882659</td>\n",
       "      <td>154</td>\n",
       "      <td>2075</td>\n",
       "      <td>1452</td>\n",
       "      <td>137</td>\n",
       "      <td>1911</td>\n",
       "      <td>164</td>\n",
       "      <td>0.676881</td>\n",
       "    </tr>\n",
       "    <tr>\n",
       "      <th>2</th>\n",
       "      <td>1314</td>\n",
       "      <td>1246</td>\n",
       "      <td>2016</td>\n",
       "      <td>-0.088235</td>\n",
       "      <td>2.588235</td>\n",
       "      <td>-2.558824</td>\n",
       "      <td>-1.264706</td>\n",
       "      <td>3.705882</td>\n",
       "      <td>1.235294</td>\n",
       "      <td>1.264706</td>\n",
       "      <td>...</td>\n",
       "      <td>0.054191</td>\n",
       "      <td>0.706771</td>\n",
       "      <td>0.064546</td>\n",
       "      <td>154</td>\n",
       "      <td>2075</td>\n",
       "      <td>1246</td>\n",
       "      <td>138</td>\n",
       "      <td>1943</td>\n",
       "      <td>132</td>\n",
       "      <td>0.575929</td>\n",
       "    </tr>\n",
       "    <tr>\n",
       "      <th>3</th>\n",
       "      <td>1314</td>\n",
       "      <td>1231</td>\n",
       "      <td>2016</td>\n",
       "      <td>-2.744485</td>\n",
       "      <td>-0.016544</td>\n",
       "      <td>-0.275735</td>\n",
       "      <td>0.413603</td>\n",
       "      <td>2.148897</td>\n",
       "      <td>1.597426</td>\n",
       "      <td>-0.055147</td>\n",
       "      <td>...</td>\n",
       "      <td>0.014561</td>\n",
       "      <td>-2.203306</td>\n",
       "      <td>-1.027679</td>\n",
       "      <td>154</td>\n",
       "      <td>2075</td>\n",
       "      <td>1231</td>\n",
       "      <td>144</td>\n",
       "      <td>1920</td>\n",
       "      <td>155</td>\n",
       "      <td>0.570473</td>\n",
       "    </tr>\n",
       "    <tr>\n",
       "      <th>4</th>\n",
       "      <td>1314</td>\n",
       "      <td>1323</td>\n",
       "      <td>2016</td>\n",
       "      <td>1.193015</td>\n",
       "      <td>6.545956</td>\n",
       "      <td>2.411765</td>\n",
       "      <td>0.476103</td>\n",
       "      <td>4.648897</td>\n",
       "      <td>1.784926</td>\n",
       "      <td>1.288603</td>\n",
       "      <td>...</td>\n",
       "      <td>0.002295</td>\n",
       "      <td>1.365835</td>\n",
       "      <td>-8.436242</td>\n",
       "      <td>154</td>\n",
       "      <td>2075</td>\n",
       "      <td>1323</td>\n",
       "      <td>146</td>\n",
       "      <td>1899</td>\n",
       "      <td>176</td>\n",
       "      <td>0.748968</td>\n",
       "    </tr>\n",
       "  </tbody>\n",
       "</table>\n",
       "<p>5 rows × 23 columns</p>\n",
       "</div>"
      ],
      "text/plain": [
       "   team_x   opp  season     toDif  scoreDif     pfDif    blkDif    astDif  \\\n",
       "0    1314  1462    2016 -1.838235  0.920956 -2.275735  1.319853  1.742647   \n",
       "1    1314  1452    2016 -3.088235  3.058824 -5.470588  1.852941  3.352941   \n",
       "2    1314  1246    2016 -0.088235  2.588235 -2.558824 -1.264706  3.705882   \n",
       "3    1314  1231    2016 -2.744485 -0.016544 -0.275735  0.413603  2.148897   \n",
       "4    1314  1323    2016  1.193015  6.545956  2.411765  0.476103  4.648897   \n",
       "\n",
       "      drDif    stlDif    ...        ftpDif  offRatDif  defRatDif  daynum_x  \\\n",
       "0 -0.996324 -0.430147    ...      0.006819   4.878343   1.503181       154   \n",
       "1  3.676471 -3.058824    ...      0.067747   5.768766   4.882659       154   \n",
       "2  1.235294  1.264706    ...      0.054191   0.706771   0.064546       154   \n",
       "3  1.597426 -0.055147    ...      0.014561  -2.203306  -1.027679       154   \n",
       "4  1.784926  1.288603    ...      0.002295   1.365835  -8.436242       154   \n",
       "\n",
       "   elo_x  team_y  daynum_y  elo_y  eloDif  predicted  \n",
       "0   2075    1462       139   1922     153   0.682795  \n",
       "1   2075    1452       137   1911     164   0.676881  \n",
       "2   2075    1246       138   1943     132   0.575929  \n",
       "3   2075    1231       144   1920     155   0.570473  \n",
       "4   2075    1323       146   1899     176   0.748968  \n",
       "\n",
       "[5 rows x 23 columns]"
      ]
     },
     "execution_count": 268,
     "metadata": {},
     "output_type": "execute_result"
    }
   ],
   "source": [
    "games.head()"
   ]
  },
  {
   "cell_type": "code",
   "execution_count": 269,
   "metadata": {
    "collapsed": true
   },
   "outputs": [],
   "source": [
    "games.to_csv(\"../derived data/2016Games.csv\")"
   ]
  },
  {
   "cell_type": "code",
   "execution_count": 238,
   "metadata": {
    "collapsed": true
   },
   "outputs": [],
   "source": [
    "submissions = games"
   ]
  },
  {
   "cell_type": "code",
   "execution_count": 241,
   "metadata": {
    "collapsed": true
   },
   "outputs": [],
   "source": [
    "submissions['Id'] = submissions['season'].astype(str).str.cat(submissions['team_x'].astype(str), sep='_')"
   ]
  },
  {
   "cell_type": "code",
   "execution_count": 247,
   "metadata": {
    "collapsed": false
   },
   "outputs": [
    {
     "data": {
      "text/html": [
       "<div>\n",
       "<table border=\"1\" class=\"dataframe\">\n",
       "  <thead>\n",
       "    <tr style=\"text-align: right;\">\n",
       "      <th></th>\n",
       "      <th>Id</th>\n",
       "      <th>Pred</th>\n",
       "    </tr>\n",
       "  </thead>\n",
       "  <tbody>\n",
       "    <tr>\n",
       "      <th>0</th>\n",
       "      <td>2016_1314_1462</td>\n",
       "      <td>0.682795</td>\n",
       "    </tr>\n",
       "    <tr>\n",
       "      <th>1</th>\n",
       "      <td>2016_1314_1452</td>\n",
       "      <td>0.676881</td>\n",
       "    </tr>\n",
       "    <tr>\n",
       "      <th>2</th>\n",
       "      <td>2016_1314_1246</td>\n",
       "      <td>0.575929</td>\n",
       "    </tr>\n",
       "    <tr>\n",
       "      <th>3</th>\n",
       "      <td>2016_1314_1231</td>\n",
       "      <td>0.570473</td>\n",
       "    </tr>\n",
       "    <tr>\n",
       "      <th>4</th>\n",
       "      <td>2016_1314_1323</td>\n",
       "      <td>0.748968</td>\n",
       "    </tr>\n",
       "  </tbody>\n",
       "</table>\n",
       "</div>"
      ],
      "text/plain": [
       "               Id      Pred\n",
       "0  2016_1314_1462  0.682795\n",
       "1  2016_1314_1452  0.676881\n",
       "2  2016_1314_1246  0.575929\n",
       "3  2016_1314_1231  0.570473\n",
       "4  2016_1314_1323  0.748968"
      ]
     },
     "execution_count": 247,
     "metadata": {},
     "output_type": "execute_result"
    }
   ],
   "source": [
    "submissions.head()"
   ]
  },
  {
   "cell_type": "code",
   "execution_count": 243,
   "metadata": {
    "collapsed": true
   },
   "outputs": [],
   "source": [
    "submissions['Id'] = submissions['Id'].astype(str).str.cat(submissions['opp'].astype(str), sep='_')"
   ]
  },
  {
   "cell_type": "code",
   "execution_count": 245,
   "metadata": {
    "collapsed": true
   },
   "outputs": [],
   "source": [
    "submissions = submissions[['Id', 'predicted']]"
   ]
  },
  {
   "cell_type": "code",
   "execution_count": 246,
   "metadata": {
    "collapsed": false
   },
   "outputs": [
    {
     "name": "stderr",
     "output_type": "stream",
     "text": [
      "//anaconda/lib/python2.7/site-packages/pandas/core/frame.py:2834: SettingWithCopyWarning: \n",
      "A value is trying to be set on a copy of a slice from a DataFrame\n",
      "\n",
      "See the caveats in the documentation: http://pandas.pydata.org/pandas-docs/stable/indexing.html#indexing-view-versus-copy\n",
      "  **kwargs)\n"
     ]
    }
   ],
   "source": [
    "submissions.rename(columns={'predicted':'Pred'}, inplace=True)"
   ]
  },
  {
   "cell_type": "code",
   "execution_count": 270,
   "metadata": {
    "collapsed": true
   },
   "outputs": [],
   "source": [
    "submissions.to_csv(\"../derived data/2016submission.csv\", index=False)"
   ]
  },
  {
   "cell_type": "code",
   "execution_count": null,
   "metadata": {
    "collapsed": true
   },
   "outputs": [],
   "source": []
  }
 ],
 "metadata": {
  "kernelspec": {
   "display_name": "Python 2",
   "language": "python",
   "name": "python2"
  },
  "language_info": {
   "codemirror_mode": {
    "name": "ipython",
    "version": 2
   },
   "file_extension": ".py",
   "mimetype": "text/x-python",
   "name": "python",
   "nbconvert_exporter": "python",
   "pygments_lexer": "ipython2",
   "version": "2.7.13"
  }
 },
 "nbformat": 4,
 "nbformat_minor": 2
}
